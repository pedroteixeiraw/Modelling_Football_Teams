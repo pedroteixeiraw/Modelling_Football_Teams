{
  "cells": [
    {
      "cell_type": "markdown",
      "metadata": {
        "id": "6InOWS_-Upqr"
      },
      "source": [
        "# Predicting Match Results in the Portuguese First League of Football\n",
        "\n",
        "The goal of this project is to predict the results of football matches in the Portuguese first league. The objective is to model:\n",
        "\n",
        "* Attacking strength\n",
        "* Defensive strength\n",
        "* Home advantage\n",
        "\n",
        "for each team in the league. Various models should be tested, and relevant conclusions should be drawn."
      ]
    },
    {
      "cell_type": "markdown",
      "metadata": {
        "id": "BHqNsyBUtZ-D"
      },
      "source": [
        "# **Model I - Poisson Distribution**\n",
        "\n",
        "This section is based on the following paper:  \n",
        "* *Modelling Association Football Scores - M. J. Mahers*\n",
        "* [http://www.90minut.pl/misc/maher.pdf](http://www.90minut.pl/misc/maher.pdf)  \n",
        "\n",
        "In this section, we will explain how to build a model to predict football scores using the Poisson distribution. By the end, we will discover that the model is quite simplistic and has certain difficulties in some areas. However, the model provides a good starting point for our project."
      ]
    },
    {
      "cell_type": "markdown",
      "metadata": {
        "id": "jJ8RHUCaukgV"
      },
      "source": [
        "## **Dataset**\n",
        "\n",
        "Our model's operation is based on predicting the number of goals scored and conceded by each team when they play against each other, based on their historical performance. To achieve this, we will use a dataset of matches from the Portuguese First League of Football from the website [https://www.football-data.co.uk/portugalm.php](https://www.football-data.co.uk/portugalm.php), the dataset used refers to the 2021/22 championship."
      ]
    },
    {
      "cell_type": "code",
      "execution_count": null,
      "metadata": {
        "colab": {
          "base_uri": "https://localhost:8080/",
          "height": 423
        },
        "id": "zr_8-H7OtZbY",
        "outputId": "6ddbdf5d-c0c3-49b3-86ce-bb6884e9b6ae"
      },
      "outputs": [
        {
          "data": {
            "text/html": [
              "\n",
              "  <div id=\"df-1b9ff379-7f99-47ca-aec1-ff29fd234f4b\">\n",
              "    <div class=\"colab-df-container\">\n",
              "      <div>\n",
              "<style scoped>\n",
              "    .dataframe tbody tr th:only-of-type {\n",
              "        vertical-align: middle;\n",
              "    }\n",
              "\n",
              "    .dataframe tbody tr th {\n",
              "        vertical-align: top;\n",
              "    }\n",
              "\n",
              "    .dataframe thead th {\n",
              "        text-align: right;\n",
              "    }\n",
              "</style>\n",
              "<table border=\"1\" class=\"dataframe\">\n",
              "  <thead>\n",
              "    <tr style=\"text-align: right;\">\n",
              "      <th></th>\n",
              "      <th>Date</th>\n",
              "      <th>HomeTeam</th>\n",
              "      <th>AwayTeam</th>\n",
              "      <th>FTHG</th>\n",
              "      <th>FTAG</th>\n",
              "      <th>FTR</th>\n",
              "    </tr>\n",
              "  </thead>\n",
              "  <tbody>\n",
              "    <tr>\n",
              "      <th>0</th>\n",
              "      <td>06/08/2021</td>\n",
              "      <td>Sp Lisbon</td>\n",
              "      <td>Vizela</td>\n",
              "      <td>3</td>\n",
              "      <td>0</td>\n",
              "      <td>H</td>\n",
              "    </tr>\n",
              "    <tr>\n",
              "      <th>1</th>\n",
              "      <td>07/08/2021</td>\n",
              "      <td>Arouca</td>\n",
              "      <td>Estoril</td>\n",
              "      <td>0</td>\n",
              "      <td>2</td>\n",
              "      <td>A</td>\n",
              "    </tr>\n",
              "    <tr>\n",
              "      <th>2</th>\n",
              "      <td>07/08/2021</td>\n",
              "      <td>Moreirense</td>\n",
              "      <td>Benfica</td>\n",
              "      <td>1</td>\n",
              "      <td>2</td>\n",
              "      <td>A</td>\n",
              "    </tr>\n",
              "    <tr>\n",
              "      <th>3</th>\n",
              "      <td>07/08/2021</td>\n",
              "      <td>Maritimo</td>\n",
              "      <td>Sp Braga</td>\n",
              "      <td>0</td>\n",
              "      <td>2</td>\n",
              "      <td>A</td>\n",
              "    </tr>\n",
              "    <tr>\n",
              "      <th>4</th>\n",
              "      <td>08/08/2021</td>\n",
              "      <td>Guimaraes</td>\n",
              "      <td>Portimonense</td>\n",
              "      <td>0</td>\n",
              "      <td>1</td>\n",
              "      <td>A</td>\n",
              "    </tr>\n",
              "    <tr>\n",
              "      <th>...</th>\n",
              "      <td>...</td>\n",
              "      <td>...</td>\n",
              "      <td>...</td>\n",
              "      <td>...</td>\n",
              "      <td>...</td>\n",
              "      <td>...</td>\n",
              "    </tr>\n",
              "    <tr>\n",
              "      <th>301</th>\n",
              "      <td>14/05/2022</td>\n",
              "      <td>Maritimo</td>\n",
              "      <td>Portimonense</td>\n",
              "      <td>0</td>\n",
              "      <td>1</td>\n",
              "      <td>A</td>\n",
              "    </tr>\n",
              "    <tr>\n",
              "      <th>302</th>\n",
              "      <td>14/05/2022</td>\n",
              "      <td>Porto</td>\n",
              "      <td>Estoril</td>\n",
              "      <td>2</td>\n",
              "      <td>0</td>\n",
              "      <td>H</td>\n",
              "    </tr>\n",
              "    <tr>\n",
              "      <th>303</th>\n",
              "      <td>14/05/2022</td>\n",
              "      <td>Sp Lisbon</td>\n",
              "      <td>Santa Clara</td>\n",
              "      <td>4</td>\n",
              "      <td>0</td>\n",
              "      <td>H</td>\n",
              "    </tr>\n",
              "    <tr>\n",
              "      <th>304</th>\n",
              "      <td>15/05/2022</td>\n",
              "      <td>Famalicao</td>\n",
              "      <td>Sp Braga</td>\n",
              "      <td>3</td>\n",
              "      <td>2</td>\n",
              "      <td>H</td>\n",
              "    </tr>\n",
              "    <tr>\n",
              "      <th>305</th>\n",
              "      <td>15/05/2022</td>\n",
              "      <td>Guimaraes</td>\n",
              "      <td>Gil Vicente</td>\n",
              "      <td>5</td>\n",
              "      <td>0</td>\n",
              "      <td>H</td>\n",
              "    </tr>\n",
              "  </tbody>\n",
              "</table>\n",
              "<p>306 rows × 6 columns</p>\n",
              "</div>\n",
              "      <button class=\"colab-df-convert\" onclick=\"convertToInteractive('df-1b9ff379-7f99-47ca-aec1-ff29fd234f4b')\"\n",
              "              title=\"Convert this dataframe to an interactive table.\"\n",
              "              style=\"display:none;\">\n",
              "        \n",
              "  <svg xmlns=\"http://www.w3.org/2000/svg\" height=\"24px\"viewBox=\"0 0 24 24\"\n",
              "       width=\"24px\">\n",
              "    <path d=\"M0 0h24v24H0V0z\" fill=\"none\"/>\n",
              "    <path d=\"M18.56 5.44l.94 2.06.94-2.06 2.06-.94-2.06-.94-.94-2.06-.94 2.06-2.06.94zm-11 1L8.5 8.5l.94-2.06 2.06-.94-2.06-.94L8.5 2.5l-.94 2.06-2.06.94zm10 10l.94 2.06.94-2.06 2.06-.94-2.06-.94-.94-2.06-.94 2.06-2.06.94z\"/><path d=\"M17.41 7.96l-1.37-1.37c-.4-.4-.92-.59-1.43-.59-.52 0-1.04.2-1.43.59L10.3 9.45l-7.72 7.72c-.78.78-.78 2.05 0 2.83L4 21.41c.39.39.9.59 1.41.59.51 0 1.02-.2 1.41-.59l7.78-7.78 2.81-2.81c.8-.78.8-2.07 0-2.86zM5.41 20L4 18.59l7.72-7.72 1.47 1.35L5.41 20z\"/>\n",
              "  </svg>\n",
              "      </button>\n",
              "      \n",
              "  <style>\n",
              "    .colab-df-container {\n",
              "      display:flex;\n",
              "      flex-wrap:wrap;\n",
              "      gap: 12px;\n",
              "    }\n",
              "\n",
              "    .colab-df-convert {\n",
              "      background-color: #E8F0FE;\n",
              "      border: none;\n",
              "      border-radius: 50%;\n",
              "      cursor: pointer;\n",
              "      display: none;\n",
              "      fill: #1967D2;\n",
              "      height: 32px;\n",
              "      padding: 0 0 0 0;\n",
              "      width: 32px;\n",
              "    }\n",
              "\n",
              "    .colab-df-convert:hover {\n",
              "      background-color: #E2EBFA;\n",
              "      box-shadow: 0px 1px 2px rgba(60, 64, 67, 0.3), 0px 1px 3px 1px rgba(60, 64, 67, 0.15);\n",
              "      fill: #174EA6;\n",
              "    }\n",
              "\n",
              "    [theme=dark] .colab-df-convert {\n",
              "      background-color: #3B4455;\n",
              "      fill: #D2E3FC;\n",
              "    }\n",
              "\n",
              "    [theme=dark] .colab-df-convert:hover {\n",
              "      background-color: #434B5C;\n",
              "      box-shadow: 0px 1px 3px 1px rgba(0, 0, 0, 0.15);\n",
              "      filter: drop-shadow(0px 1px 2px rgba(0, 0, 0, 0.3));\n",
              "      fill: #FFFFFF;\n",
              "    }\n",
              "  </style>\n",
              "\n",
              "      <script>\n",
              "        const buttonEl =\n",
              "          document.querySelector('#df-1b9ff379-7f99-47ca-aec1-ff29fd234f4b button.colab-df-convert');\n",
              "        buttonEl.style.display =\n",
              "          google.colab.kernel.accessAllowed ? 'block' : 'none';\n",
              "\n",
              "        async function convertToInteractive(key) {\n",
              "          const element = document.querySelector('#df-1b9ff379-7f99-47ca-aec1-ff29fd234f4b');\n",
              "          const dataTable =\n",
              "            await google.colab.kernel.invokeFunction('convertToInteractive',\n",
              "                                                     [key], {});\n",
              "          if (!dataTable) return;\n",
              "\n",
              "          const docLinkHtml = 'Like what you see? Visit the ' +\n",
              "            '<a target=\"_blank\" href=https://colab.research.google.com/notebooks/data_table.ipynb>data table notebook</a>'\n",
              "            + ' to learn more about interactive tables.';\n",
              "          element.innerHTML = '';\n",
              "          dataTable['output_type'] = 'display_data';\n",
              "          await google.colab.output.renderOutput(dataTable, element);\n",
              "          const docLink = document.createElement('div');\n",
              "          docLink.innerHTML = docLinkHtml;\n",
              "          element.appendChild(docLink);\n",
              "        }\n",
              "      </script>\n",
              "    </div>\n",
              "  </div>\n",
              "  "
            ],
            "text/plain": [
              "           Date    HomeTeam      AwayTeam  FTHG  FTAG FTR\n",
              "0    06/08/2021   Sp Lisbon        Vizela     3     0   H\n",
              "1    07/08/2021      Arouca       Estoril     0     2   A\n",
              "2    07/08/2021  Moreirense       Benfica     1     2   A\n",
              "3    07/08/2021    Maritimo      Sp Braga     0     2   A\n",
              "4    08/08/2021   Guimaraes  Portimonense     0     1   A\n",
              "..          ...         ...           ...   ...   ...  ..\n",
              "301  14/05/2022    Maritimo  Portimonense     0     1   A\n",
              "302  14/05/2022       Porto       Estoril     2     0   H\n",
              "303  14/05/2022   Sp Lisbon   Santa Clara     4     0   H\n",
              "304  15/05/2022   Famalicao      Sp Braga     3     2   H\n",
              "305  15/05/2022   Guimaraes   Gil Vicente     5     0   H\n",
              "\n",
              "[306 rows x 6 columns]"
            ]
          },
          "execution_count": 3,
          "metadata": {},
          "output_type": "execute_result"
        }
      ],
      "source": [
        "import pandas as pd\n",
        "\n",
        "df = pd.read_csv(\"https://www.football-data.co.uk/mmz4281/2122/P1.csv\")\n",
        "df[[\"Date\", \"HomeTeam\", \"AwayTeam\", \"FTHG\", \"FTAG\", \"FTR\"]]"
      ]
    },
    {
      "cell_type": "markdown",
      "metadata": {
        "id": "TvHhRkimwO58"
      },
      "source": [
        "Currently, we have the team names (***HomeTeam*** and ***AwayTeam***), the number of goals scored by the home team at the end of the match (**FTHG**, *final time home goals*), the number of goals scored by the away team at the end of the match (**FTAG**, *final time away goals*), and who won (**FTR**, *final team result* where H is *HomeTeam* and A is *AwayTeam*)."
      ]
    },
    {
      "cell_type": "markdown",
      "metadata": {
        "id": "K6-lBMRLynW4"
      },
      "source": [
        "## **Home Advantage I**\n",
        "\n",
        "Let's begin by analyzing the basic information we have in our dataset. We'll start with the average number of goals scored."
      ]
    },
    {
      "cell_type": "code",
      "execution_count": null,
      "metadata": {
        "colab": {
          "base_uri": "https://localhost:8080/"
        },
        "id": "4pAsvV4zzA50",
        "outputId": "4f22e758-44c7-46d0-f5f9-8a89b84f1f11"
      },
      "outputs": [
        {
          "data": {
            "text/plain": [
              "FTHG    1.431373\n",
              "FTAG    1.205882\n",
              "dtype: float64"
            ]
          },
          "execution_count": 4,
          "metadata": {},
          "output_type": "execute_result"
        }
      ],
      "source": [
        "df[[\"FTHG\", \"FTAG\"]].mean()"
      ]
    },
    {
      "cell_type": "code",
      "execution_count": null,
      "metadata": {
        "colab": {
          "base_uri": "https://localhost:8080/"
        },
        "id": "Yr-3W-tLzTgT",
        "outputId": "b0dcf8b4-1964-4a05-93e8-863644576e47"
      },
      "outputs": [
        {
          "name": "stdout",
          "output_type": "stream",
          "text": [
            "1.1869918699186992\n"
          ]
        }
      ],
      "source": [
        "meanFTHG = df[[\"FTHG\"]].mean()\n",
        "meanFTAG = df[[\"FTAG\"]].mean()\n",
        "rel = float(meanFTHG)/float(meanFTAG)\n",
        "print(rel)"
      ]
    },
    {
      "cell_type": "markdown",
      "metadata": {
        "id": "K7eJX_vqzNVu"
      },
      "source": [
        "On average, the home team scores about `18.70%` more goals than the away team, so our model should take home advantage into consideration.  \n",
        "Next, we'll plot the distribution of goals scored by the home and away teams."
      ]
    },
    {
      "cell_type": "code",
      "execution_count": null,
      "metadata": {
        "colab": {
          "base_uri": "https://localhost:8080/",
          "height": 320
        },
        "id": "_JGku_nb0XED",
        "outputId": "515579cc-7cc4-4eb0-e343-cdaefc039b59"
      },
      "outputs": [
        {
          "data": {
            "text/plain": [
              "Text(0.5, 1.0, 'Número de golos marcados por jogo')"
            ]
          },
          "execution_count": 6,
          "metadata": {},
          "output_type": "execute_result"
        },
        {
          "data": {
            "image/png": "[encoded data removed]",
            "text/plain": [
              "<Figure size 432x288 with 1 Axes>"
            ]
          },
          "metadata": {},
          "output_type": "display_data"
        }
      ],
      "source": [
        "import matplotlib.pyplot as plt\n",
        "import seaborn as sns\n",
        "\n",
        "sns.set()\n",
        "max_goals = 10\n",
        "plt.hist(df[[\"FTHG\", \"FTAG\"]].values, range(max_goals), label=[\"Casa\", \"Fora\"], density=True)\n",
        "plt.xticks([i - 0.5 for i in range(max_goals)], [i for i in range(max_goals)])\n",
        "plt.xlabel(\"Golos\")\n",
        "plt.ylabel(\"Proporção de jogos\")\n",
        "plt.legend(loc=\"upper right\", fontsize=13)\n",
        "plt.title(\"Número de golos marcados por jogo\", size=14, fontweight=\"bold\")"
      ]
    },
    {
      "cell_type": "markdown",
      "metadata": {
        "id": "YsUnVgon0vdO"
      },
      "source": [
        "The distribution appears quite similar to a *Poisson Distribution*. We can confirm our assumption by plotting the number of goals obtained from the *Poisson Distribution* along with the average number of goals we calculated above."
      ]
    },
    {
      "cell_type": "code",
      "execution_count": null,
      "metadata": {
        "colab": {
          "base_uri": "https://localhost:8080/",
          "height": 320
        },
        "id": "zwZcp2WP1DdS",
        "outputId": "92166a6f-9ad5-4b47-fd8b-2d526ab12707"
      },
      "outputs": [
        {
          "data": {
            "text/plain": [
              "Text(0.5, 1.0, 'Número de golos marcados por jogo')"
            ]
          },
          "execution_count": 7,
          "metadata": {},
          "output_type": "execute_result"
        },
        {
          "data": {
            "image/png": "[encoded data removed]",
            "text/plain": [
              "<Figure size 432x288 with 1 Axes>"
            ]
          },
          "metadata": {},
          "output_type": "display_data"
        }
      ],
      "source": [
        "import numpy as np\n",
        "from scipy.stats import poisson\n",
        "\n",
        "home_poisson = poisson.pmf(range(10), df[\"FTHG\"].mean())\n",
        "away_poisson = poisson.pmf(range(10), df[\"FTAG\"].mean())\n",
        "\n",
        "max_goals = 10\n",
        "plt.hist(df[[\"FTHG\", \"FTAG\"]].values, range(max_goals), label=[\"Casa\", \"Fora\"], density=True)\n",
        "plt.plot([i - 0.5 for i in range(1, max_goals + 1)], home_poisson, linestyle=\"-\", marker=\"o\", label=\"Casa Poisson\",)\n",
        "plt.plot([i - 0.5 for i in range(1, max_goals + 1)], away_poisson, linestyle=\"-\", marker=\"o\", label=\"Fora Poisson\",)\n",
        "plt.xticks([i - 0.5 for i in range(1, max_goals + 1)], [i for i in range(max_goals)])\n",
        "plt.xlabel(\"Golos\")\n",
        "plt.ylabel(\"Proporção de Jogos\")\n",
        "plt.legend(loc=\"upper right\", fontsize=13)\n",
        "plt.title(\"Número de golos marcados por jogo\", size=14, fontweight=\"bold\")"
      ]
    },
    {
      "cell_type": "markdown",
      "metadata": {
        "id": "9jXk2uoQMW7b"
      },
      "source": [
        "It's not perfect, but it's a start. With this, it's possible to approximate the number of goals scored using a Poisson distribution."
      ]
    },
    {
      "cell_type": "markdown",
      "metadata": {
        "id": "-NM0nb1U8Wh6"
      },
      "source": [
        "## **Prediction Model**\n",
        "\n",
        "To create the prediction model, we need information about the expected number of goals each team will score against the others.  \n",
        "For this, we assume that the number of goals scored by a team is a function of its attacking strength and the defensive strength of the opposing team. Thus, teams with a stronger attack should score more goals, while teams with weaker defenses are more likely to concede goals. Additionally, we must consider the home-field advantage when a team plays at home. Therefore, our model will take the following form:\n",
        "\n",
        "$goals\\_home = home\\_advantage + home\\_attack + defence\\_away$    \n",
        "$goals\\_away = away\\_attack + defence\\_home$  \n",
        "\n",
        "Now, we need to determine the parameters for our model."
      ]
    },
    {
      "cell_type": "markdown",
      "metadata": {
        "id": "RN4E90Ld-E_o"
      },
      "source": [
        "### **Model Parameters**\n",
        "\n",
        "To determine the best parameters for attack and defense, we need to define a value to optimize. For this, we will use the *Maximum Likelihood Estimation* method, which aims to find the parameters that best fit and predict results based on historical data. This approach helps generate more reliable predictions by leveraging past match outcomes.\n",
        "\n",
        "In this case, calculating the *likelihood* involves a large number of small calculations. Therefore, we will maximize the *log-likelihood* instead, allowing us to sum the logs of all *likelihoods* rather than multiplying small values, which could introduce errors and inaccuracies.\n",
        "\n",
        "Since the *scipy* library in Python provides an optimizer that minimizes values instead of maximizing the *log-likelihood*, we will minimize the negative *log-likelihood*.\n",
        "\n",
        "The function that computes the *log-likelihood* is as follows:"
      ]
    },
    {
      "cell_type": "code",
      "execution_count": null,
      "metadata": {
        "id": "0Y_NkuZP8WEg"
      },
      "outputs": [],
      "source": [
        "def log_likelihood(goals_home_observed, goals_away_observed, home_attack, home_defence, away_attack, away_defence, home_advantage,):\n",
        "    goal_expectation_home = np.exp(home_attack + away_defence + home_advantage)\n",
        "    goal_expectation_away = np.exp(away_attack + home_defence)\n",
        "    if goal_expectation_home < 0 or goal_expectation_away < 0:\n",
        "        return 10000    \n",
        "    home_llk = poisson.pmf(goals_home_observed, goal_expectation_home)\n",
        "    away_llk = poisson.pmf(goals_away_observed, goal_expectation_away)\n",
        "    log_llk = np.log(home_llk) + np.log(away_llk)\n",
        "    return -log_llk"
      ]
    },
    {
      "cell_type": "markdown",
      "metadata": {
        "id": "XcZKBHZ9CahO"
      },
      "source": [
        "Initially, we provide the model with the attack, defense, and home advantage parameters to calculate the number of goals each team is expected to score. Then, if the number of goals is less than 0, we return a very high value so that the *optimizer* detects that the tested values are incorrect and do not fit the real data. If the number of goals is 0 or higher, we use the Poisson distribution to determine the number of goals scored by each team. Next, the obtained values are converted to *log* and summed. Finally, we return the negative *log-likelihood*.\n",
        "\n",
        "After defining the function, we need to provide it to the *optimizer*. The *optimizer* is configured as follows:\n",
        "\n",
        "1. Extract the teams that will be used to fit the model.  \n",
        "2. Create default parameters for the model, which the *optimizer* will use as starting points.  \n",
        "3. Define a function called `_fit`, which calculates the logarithm of the expected value.  \n",
        "4. Set the *optimizer* to stop searching for a solution after 100 attempts.  \n",
        "5. Impose a constraint on the *optimizer*: the sum of the attack parameters must equal the total number of teams.  \n",
        "6. Run the *optimizer* to find the best-fitting parameters for the model and dataset.  "
      ]
    },
    {
      "cell_type": "code",
      "execution_count": null,
      "metadata": {
        "colab": {
          "base_uri": "https://localhost:8080/"
        },
        "id": "CcsaolDjepRu",
        "outputId": "cbae6568-d471-448c-dd2b-62740bd86f92"
      },
      "outputs": [
        {
          "name": "stderr",
          "output_type": "stream",
          "text": [
            "<ipython-input-8-98a47b0b8cc5>:8: RuntimeWarning: divide by zero encountered in log\n",
            "  log_llk = np.log(home_llk) + np.log(away_llk)\n"
          ]
        },
        {
          "name": "stdout",
          "output_type": "stream",
          "text": [
            "Log Likelihood:  823.9346106798471\n"
          ]
        }
      ],
      "source": [
        "from scipy.optimize import minimize\n",
        "\n",
        "def fit_poisson_model():\n",
        "    teams = np.sort(np.unique(np.concatenate([df[\"HomeTeam\"], df[\"AwayTeam\"]])))\n",
        "    n_teams = len(teams)\n",
        "    params = np.concatenate((\n",
        "            # Força atacante\n",
        "            np.random.uniform(0.5, 1.5, (n_teams)),\n",
        "            # Força defensiva\n",
        "            np.random.uniform(0, -1, (n_teams)), \n",
        "            # Vantagem de jogar em casa\n",
        "            [0.25],))\n",
        "\n",
        "    def _fit(params, df, teams):\n",
        "        attack_params = dict(zip(teams, params[:n_teams]))\n",
        "        defence_params = dict(zip(teams, params[n_teams : (2 * n_teams)]))\n",
        "        home_advantage = params[-1]\n",
        "\n",
        "        llk = list()\n",
        "        for idx, row in df.iterrows():\n",
        "            tmp = log_likelihood(\n",
        "                row[\"FTHG\"], row[\"FTAG\"],\n",
        "                attack_params[row[\"HomeTeam\"]], \n",
        "                defence_params[row[\"HomeTeam\"]], \n",
        "                attack_params[row[\"AwayTeam\"]],\n",
        "                defence_params[row[\"AwayTeam\"]],\n",
        "                home_advantage,)\n",
        "            llk.append(tmp)\n",
        "\n",
        "        return np.sum(llk)\n",
        "\n",
        "    options = {\"maxiter\": 100,\"disp\": False,}\n",
        "    constraints = [{\"type\": \"eq\", \"fun\": lambda x: sum(x[:n_teams]) - n_teams}]\n",
        "    res = minimize(_fit, params, args=(df, teams), constraints=constraints, options=options,)\n",
        "    model_params = dict(\n",
        "        zip(\n",
        "            [\"attack_\" + team for team in teams]\n",
        "            + [\"defence_\" + team for team in teams]\n",
        "            + [\"home_adv\"],\n",
        "            res[\"x\"],))\n",
        "    print(\"Log Likelihood: \", res[\"fun\"])\n",
        "    return model_params\n",
        "\n",
        "model_params = fit_poisson_model()"
      ]
    },
    {
      "cell_type": "markdown",
      "metadata": {
        "id": "PXfA3F7bj1Pj"
      },
      "source": [
        "## **Attacking Strength, Defensive Strength, and Home Advantage II**  \n",
        "\n",
        "Let's take a look at the parameters and check if they make sense:  "
      ]
    },
    {
      "cell_type": "code",
      "execution_count": null,
      "metadata": {
        "colab": {
          "base_uri": "https://localhost:8080/"
        },
        "id": "7_f3pR8ijyMf",
        "outputId": "03ab47ef-3f78-4f65-fc5a-18e8ee515e89"
      },
      "outputs": [
        {
          "name": "stdout",
          "output_type": "stream",
          "text": [
            "{'attack_Arouca': 0.6716558901674002,\n",
            " 'attack_Belenenses': 0.40661024184888606,\n",
            " 'attack_Benfica': 1.5986997324112864,\n",
            " 'attack_Boavista': 0.9322103208591025,\n",
            " 'attack_Estoril': 0.8401048760647918,\n",
            " 'attack_Famalicao': 1.0745311533834312,\n",
            " 'attack_Gil Vicente': 1.1062154398199104,\n",
            " 'attack_Guimaraes': 1.1669881851898771,\n",
            " 'attack_Maritimo': 0.9216761267865236,\n",
            " 'attack_Moreirense': 0.7633025426711791,\n",
            " 'attack_Pacos Ferreira': 0.6246660905347514,\n",
            " 'attack_Portimonense': 0.6928017198206636,\n",
            " 'attack_Porto': 1.6858683887835129,\n",
            " 'attack_Santa Clara': 0.9087856114146288,\n",
            " 'attack_Sp Braga': 1.1931636789022673,\n",
            " 'attack_Sp Lisbon': 1.5227980033595276,\n",
            " 'attack_Tondela': 1.0025714718565073,\n",
            " 'attack_Vizela': 0.8873505261257532,\n",
            " 'defence_Arouca': -0.7037547201807969,\n",
            " 'defence_Belenenses': -0.6944961849264347,\n",
            " 'defence_Benfica': -1.2297868811549904,\n",
            " 'defence_Boavista': -0.7297586943144166,\n",
            " 'defence_Estoril': -0.9243105363939492,\n",
            " 'defence_Famalicao': -0.7412606493895812,\n",
            " 'defence_Gil Vicente': -0.933501223388247,\n",
            " 'defence_Guimaraes': -0.9537138876719997,\n",
            " 'defence_Maritimo': -0.8973438326739779,\n",
            " 'defence_Moreirense': -0.7571438138290508,\n",
            " 'defence_Pacos Ferreira': -0.9103471935044898,\n",
            " 'defence_Portimonense': -0.885235477121435,\n",
            " 'defence_Porto': -1.5302933575335023,\n",
            " 'defence_Santa Clara': -0.6932083039001969,\n",
            " 'defence_Sp Braga': -1.2315332688733325,\n",
            " 'defence_Sp Lisbon': -1.503164354288584,\n",
            " 'defence_Tondela': -0.4725438912831855,\n",
            " 'defence_Vizela': -0.6228117574012835,\n",
            " 'home_adv': 0.17142271800933706}\n"
          ]
        }
      ],
      "source": [
        "from pprint import pprint\n",
        "pprint(model_params)"
      ]
    },
    {
      "cell_type": "markdown",
      "metadata": {
        "id": "0ZsBSisej8sL"
      },
      "source": [
        "The results seem to align with reality, as Belenenses `(0.4066)` and Paços de Ferreira `(0.6246)` both have low attacking strength, reflecting their low goal-scoring records. Meanwhile, Porto `(1.6859)` and Benfica `(1.5987)` have higher attacking strength, which matches their stronger offensive performance.  \n",
        "\n",
        "Additionally, Tondela `(-0.4725)` and Vizela `(-0.6228)` both exhibit weak defensive strength, which again corresponds with the results in the dataset.  \n",
        "\n",
        "The parameter quantifying home advantage `(17.14%)` is very close to our initial estimate, calculated by comparing the average goals scored at home and away `(18.70%)`. "
      ]
    },
    {
      "cell_type": "markdown",
      "metadata": {
        "id": "c3Yyp70KphdL"
      },
      "source": [
        "## **Predicting Match Results**  \n",
        "To predict results, we use the following function:"
      ]
    },
    {
      "cell_type": "code",
      "execution_count": null,
      "metadata": {
        "id": "5TFTD_6jpnui"
      },
      "outputs": [],
      "source": [
        "def predict(home_team, away_team, params, max_goals=10):\n",
        "    home_attack = params[\"attack_\" + home_team]\n",
        "    home_defence = params[\"defence_\" + home_team]\n",
        "    away_attack = params[\"attack_\" + away_team]\n",
        "    away_defence = params[\"defence_\" + away_team]\n",
        "    home_advantage = params[\"home_adv\"]\n",
        "\n",
        "    home_goal_expectation = np.exp(home_attack + away_defence + home_advantage)\n",
        "    away_goal_expectation = np.exp(away_attack + home_defence)\n",
        "\n",
        "    home_probs = poisson.pmf(list(range(max_goals + 1)), home_goal_expectation)\n",
        "    away_probs = poisson.pmf(range(max_goals + 1), away_goal_expectation)\n",
        "    \n",
        "    probability_matrix = np.outer(home_probs, away_probs)\n",
        "\n",
        "    return probability_matrix"
      ]
    },
    {
      "cell_type": "markdown",
      "metadata": {
        "id": "B3oI6l-4ps9X"
      },
      "source": [
        "The beginning of this function is quite similar to the *'log_likelihood'* function we used earlier. We start by obtaining the parameters and then use them to calculate the expected number of goals for each team.  \n",
        "Next, we use a Poisson distribution to determine the probability of a team scoring 0, 1, 2, 3, (...) goals at home and away.  \n",
        "Then, we perform a matrix multiplication of the two probability sets to obtain the probability matrix for all possible outcomes.  \n",
        "As an example, let's look at the probabilities of obtaining a final result with a maximum of 4 goals per team between Benfica and Porto.  "
      ]
    },
    {
      "cell_type": "code",
      "execution_count": null,
      "metadata": {
        "colab": {
          "base_uri": "https://localhost:8080/"
        },
        "id": "zqs2N61vppJf",
        "outputId": "f002bc83-865c-40f7-d200-436b49708224"
      },
      "outputs": [
        {
          "name": "stdout",
          "output_type": "stream",
          "text": [
            "array([[0.05790736, 0.0913708 , 0.07208603, 0.03791434, 0.01495606],\n",
            "       [0.0736021 , 0.1161352 , 0.09162364, 0.04819034, 0.01900963],\n",
            "       [0.04677531, 0.07380577, 0.05822829, 0.03062573, 0.01208092],\n",
            "       [0.01981764, 0.03126983, 0.02467   , 0.01297543, 0.00511841],\n",
            "       [0.00629721, 0.00993624, 0.00783909, 0.00412305, 0.00162642]])\n"
          ]
        }
      ],
      "source": [
        "probs = predict(\"Benfica\", \"Porto\", model_params, 4)\n",
        "pprint(probs)"
      ]
    },
    {
      "cell_type": "markdown",
      "metadata": {
        "id": "gvAwSgNev6jd"
      },
      "source": [
        "The column shows the probability of Benfica scoring **n** goals, while the rows represent the probabilities of Porto scoring **n** goals.  \n",
        "For example, the probability of a `0-0` draw is `0.0579`, and the probability of a `3-1` result is `0.03126`."
      ]
    },
    {
      "cell_type": "markdown",
      "metadata": {},
      "source": [
        "### **Probability of a Draw**\n",
        "\n",
        "We can use the matrix to obtain the probability of various outcomes. For example, the sum of the diagonal of the matrix gives us the probability of a draw:"
      ]
    },
    {
      "cell_type": "code",
      "execution_count": null,
      "metadata": {
        "colab": {
          "base_uri": "https://localhost:8080/"
        },
        "id": "KfBiSIklv6WK",
        "outputId": "a47adeb4-0d38-4384-9c3d-d7aa7c336377"
      },
      "outputs": [
        {
          "data": {
            "text/plain": [
              "0.24687268585944638"
            ]
          },
          "execution_count": 13,
          "metadata": {},
          "output_type": "execute_result"
        }
      ],
      "source": [
        "# Probabilidade de Empata\n",
        "np.sum(np.diag(probs))"
      ]
    },
    {
      "cell_type": "markdown",
      "metadata": {
        "id": "Ypy5XCT17NGP"
      },
      "source": [
        "### **Probability of Winning at Home**\n",
        "\n",
        "The sum of the lower triangular part of the matrix gives the probability of winning at home."
      ]
    },
    {
      "cell_type": "code",
      "execution_count": null,
      "metadata": {
        "colab": {
          "base_uri": "https://localhost:8080/"
        },
        "id": "tS3So0f47Mtn",
        "outputId": "05bf4d2c-22c5-4380-eb93-549946509393"
      },
      "outputs": [
        {
          "data": {
            "text/plain": [
              "0.2981362309258877"
            ]
          },
          "execution_count": 14,
          "metadata": {},
          "output_type": "execute_result"
        }
      ],
      "source": [
        "# Probabilidade de Ganhar em Casa\n",
        "np.sum(np.tril(probs, -1))"
      ]
    },
    {
      "cell_type": "markdown",
      "metadata": {
        "id": "W4KgRKO47ZgB"
      },
      "source": [
        "### **Probability of Winning Away**\n",
        "\n",
        "The sum of the upper triangular part of the matrix gives the probability of winning away."
      ]
    },
    {
      "cell_type": "code",
      "execution_count": null,
      "metadata": {
        "colab": {
          "base_uri": "https://localhost:8080/"
        },
        "id": "_dMF1qqw7YD_",
        "outputId": "9c3134a0-612f-463d-aceb-c9279895999a"
      },
      "outputs": [
        {
          "data": {
            "text/plain": [
              "0.4229759109355238"
            ]
          },
          "execution_count": 15,
          "metadata": {},
          "output_type": "execute_result"
        }
      ],
      "source": [
        "# Probabilidade de Ganhar Fora\n",
        "np.sum(np.triu(probs, 1))"
      ]
    },
    {
      "cell_type": "markdown",
      "metadata": {
        "id": "w7OrHZC47h6g"
      },
      "source": [
        "It is important to note that this probability, when summed, does not equal 1, as we are calculating the probabilities for up to a maximum of 4 goals. If we increase the maximum to 10 goals, the sum of the probabilities will be approximately 1."
      ]
    },
    {
      "cell_type": "markdown",
      "metadata": {
        "id": "jTrFFrur9Bec"
      },
      "source": [
        "## **Observations**\n",
        "Are the predictions made by our model good?  \n",
        "In some ways, yes. However, we are assuming that the predicted number of goals scored by each team is independent of each other. But in a football match, these are not independent. For example, an away team may be content with a draw and, therefore, attack less. Similarly, a team losing by 3 goals may simply 'park the bus' in defense, increasing their defensive strength to avoid humiliation. Therefore, there are situations where teams are not playing to score, and this negatively affects our Poisson distribution.\n"
      ]
    },
    {
      "cell_type": "markdown",
      "metadata": {
        "id": "VYvc_2e7A6dx"
      },
      "source": [
        "## Conclusion\n",
        "This model provides us with a good foundation to start with. In the next section, we will see how Dixon and Coles adjusted our Poisson model to account for the observations made earlier."
      ]
    },
    {
      "cell_type": "markdown",
      "metadata": {
        "id": "nzzi20y2C5Wz"
      },
      "source": [
        "# **Model II - Dixon and Coles Model**\n",
        "\n",
        "This section is based on the following paper:\n",
        "\n",
        "*   *Modelling Association Football Scores and Inefficiencies in the Football Betting Market*\n",
        "*   [http://web.math.ku.dk/~rolf/teaching/thesis/DixonColes.pdf](http://web.math.ku.dk/~rolf/teaching/thesis/DixonColes.pdf)\n",
        "\n",
        "As we saw earlier, the Poisson distribution-based model performed well but had some weaknesses when trying to predict results like `0-0`, `1-0`, or `0-1`. In this section, we will explore how Dixon and Coles added an adjustment factor to improve the model's *performance*."
      ]
    },
    {
      "cell_type": "markdown",
      "metadata": {
        "id": "xgYAZ1kHv8vr"
      },
      "source": [
        "## **Dataset and Prediction Model**\n",
        "\n",
        "The *dataset* and the model are the same:\n",
        "\n",
        "$goals\\_home = home\\_advantage + home\\_attack + defence\\_away$  \n",
        "$goals\\_away = away\\_attack + defence\\_home$"
      ]
    },
    {
      "cell_type": "code",
      "execution_count": null,
      "metadata": {
        "colab": {
          "base_uri": "https://localhost:8080/",
          "height": 423
        },
        "id": "wI3j1CBgxqjI",
        "outputId": "66665616-f978-4863-a8cf-0c888ddd66c2"
      },
      "outputs": [
        {
          "data": {
            "text/html": [
              "\n",
              "  <div id=\"df-ffbb1adb-27d3-4dfa-a37e-1a414f5f5232\">\n",
              "    <div class=\"colab-df-container\">\n",
              "      <div>\n",
              "<style scoped>\n",
              "    .dataframe tbody tr th:only-of-type {\n",
              "        vertical-align: middle;\n",
              "    }\n",
              "\n",
              "    .dataframe tbody tr th {\n",
              "        vertical-align: top;\n",
              "    }\n",
              "\n",
              "    .dataframe thead th {\n",
              "        text-align: right;\n",
              "    }\n",
              "</style>\n",
              "<table border=\"1\" class=\"dataframe\">\n",
              "  <thead>\n",
              "    <tr style=\"text-align: right;\">\n",
              "      <th></th>\n",
              "      <th>Date</th>\n",
              "      <th>HomeTeam</th>\n",
              "      <th>AwayTeam</th>\n",
              "      <th>FTHG</th>\n",
              "      <th>FTAG</th>\n",
              "      <th>FTR</th>\n",
              "    </tr>\n",
              "  </thead>\n",
              "  <tbody>\n",
              "    <tr>\n",
              "      <th>0</th>\n",
              "      <td>06/08/2021</td>\n",
              "      <td>Sp Lisbon</td>\n",
              "      <td>Vizela</td>\n",
              "      <td>3</td>\n",
              "      <td>0</td>\n",
              "      <td>H</td>\n",
              "    </tr>\n",
              "    <tr>\n",
              "      <th>1</th>\n",
              "      <td>07/08/2021</td>\n",
              "      <td>Arouca</td>\n",
              "      <td>Estoril</td>\n",
              "      <td>0</td>\n",
              "      <td>2</td>\n",
              "      <td>A</td>\n",
              "    </tr>\n",
              "    <tr>\n",
              "      <th>2</th>\n",
              "      <td>07/08/2021</td>\n",
              "      <td>Moreirense</td>\n",
              "      <td>Benfica</td>\n",
              "      <td>1</td>\n",
              "      <td>2</td>\n",
              "      <td>A</td>\n",
              "    </tr>\n",
              "    <tr>\n",
              "      <th>3</th>\n",
              "      <td>07/08/2021</td>\n",
              "      <td>Maritimo</td>\n",
              "      <td>Sp Braga</td>\n",
              "      <td>0</td>\n",
              "      <td>2</td>\n",
              "      <td>A</td>\n",
              "    </tr>\n",
              "    <tr>\n",
              "      <th>4</th>\n",
              "      <td>08/08/2021</td>\n",
              "      <td>Guimaraes</td>\n",
              "      <td>Portimonense</td>\n",
              "      <td>0</td>\n",
              "      <td>1</td>\n",
              "      <td>A</td>\n",
              "    </tr>\n",
              "    <tr>\n",
              "      <th>...</th>\n",
              "      <td>...</td>\n",
              "      <td>...</td>\n",
              "      <td>...</td>\n",
              "      <td>...</td>\n",
              "      <td>...</td>\n",
              "      <td>...</td>\n",
              "    </tr>\n",
              "    <tr>\n",
              "      <th>301</th>\n",
              "      <td>14/05/2022</td>\n",
              "      <td>Maritimo</td>\n",
              "      <td>Portimonense</td>\n",
              "      <td>0</td>\n",
              "      <td>1</td>\n",
              "      <td>A</td>\n",
              "    </tr>\n",
              "    <tr>\n",
              "      <th>302</th>\n",
              "      <td>14/05/2022</td>\n",
              "      <td>Porto</td>\n",
              "      <td>Estoril</td>\n",
              "      <td>2</td>\n",
              "      <td>0</td>\n",
              "      <td>H</td>\n",
              "    </tr>\n",
              "    <tr>\n",
              "      <th>303</th>\n",
              "      <td>14/05/2022</td>\n",
              "      <td>Sp Lisbon</td>\n",
              "      <td>Santa Clara</td>\n",
              "      <td>4</td>\n",
              "      <td>0</td>\n",
              "      <td>H</td>\n",
              "    </tr>\n",
              "    <tr>\n",
              "      <th>304</th>\n",
              "      <td>15/05/2022</td>\n",
              "      <td>Famalicao</td>\n",
              "      <td>Sp Braga</td>\n",
              "      <td>3</td>\n",
              "      <td>2</td>\n",
              "      <td>H</td>\n",
              "    </tr>\n",
              "    <tr>\n",
              "      <th>305</th>\n",
              "      <td>15/05/2022</td>\n",
              "      <td>Guimaraes</td>\n",
              "      <td>Gil Vicente</td>\n",
              "      <td>5</td>\n",
              "      <td>0</td>\n",
              "      <td>H</td>\n",
              "    </tr>\n",
              "  </tbody>\n",
              "</table>\n",
              "<p>306 rows × 6 columns</p>\n",
              "</div>\n",
              "      <button class=\"colab-df-convert\" onclick=\"convertToInteractive('df-ffbb1adb-27d3-4dfa-a37e-1a414f5f5232')\"\n",
              "              title=\"Convert this dataframe to an interactive table.\"\n",
              "              style=\"display:none;\">\n",
              "        \n",
              "  <svg xmlns=\"http://www.w3.org/2000/svg\" height=\"24px\"viewBox=\"0 0 24 24\"\n",
              "       width=\"24px\">\n",
              "    <path d=\"M0 0h24v24H0V0z\" fill=\"none\"/>\n",
              "    <path d=\"M18.56 5.44l.94 2.06.94-2.06 2.06-.94-2.06-.94-.94-2.06-.94 2.06-2.06.94zm-11 1L8.5 8.5l.94-2.06 2.06-.94-2.06-.94L8.5 2.5l-.94 2.06-2.06.94zm10 10l.94 2.06.94-2.06 2.06-.94-2.06-.94-.94-2.06-.94 2.06-2.06.94z\"/><path d=\"M17.41 7.96l-1.37-1.37c-.4-.4-.92-.59-1.43-.59-.52 0-1.04.2-1.43.59L10.3 9.45l-7.72 7.72c-.78.78-.78 2.05 0 2.83L4 21.41c.39.39.9.59 1.41.59.51 0 1.02-.2 1.41-.59l7.78-7.78 2.81-2.81c.8-.78.8-2.07 0-2.86zM5.41 20L4 18.59l7.72-7.72 1.47 1.35L5.41 20z\"/>\n",
              "  </svg>\n",
              "      </button>\n",
              "      \n",
              "  <style>\n",
              "    .colab-df-container {\n",
              "      display:flex;\n",
              "      flex-wrap:wrap;\n",
              "      gap: 12px;\n",
              "    }\n",
              "\n",
              "    .colab-df-convert {\n",
              "      background-color: #E8F0FE;\n",
              "      border: none;\n",
              "      border-radius: 50%;\n",
              "      cursor: pointer;\n",
              "      display: none;\n",
              "      fill: #1967D2;\n",
              "      height: 32px;\n",
              "      padding: 0 0 0 0;\n",
              "      width: 32px;\n",
              "    }\n",
              "\n",
              "    .colab-df-convert:hover {\n",
              "      background-color: #E2EBFA;\n",
              "      box-shadow: 0px 1px 2px rgba(60, 64, 67, 0.3), 0px 1px 3px 1px rgba(60, 64, 67, 0.15);\n",
              "      fill: #174EA6;\n",
              "    }\n",
              "\n",
              "    [theme=dark] .colab-df-convert {\n",
              "      background-color: #3B4455;\n",
              "      fill: #D2E3FC;\n",
              "    }\n",
              "\n",
              "    [theme=dark] .colab-df-convert:hover {\n",
              "      background-color: #434B5C;\n",
              "      box-shadow: 0px 1px 3px 1px rgba(0, 0, 0, 0.15);\n",
              "      filter: drop-shadow(0px 1px 2px rgba(0, 0, 0, 0.3));\n",
              "      fill: #FFFFFF;\n",
              "    }\n",
              "  </style>\n",
              "\n",
              "      <script>\n",
              "        const buttonEl =\n",
              "          document.querySelector('#df-ffbb1adb-27d3-4dfa-a37e-1a414f5f5232 button.colab-df-convert');\n",
              "        buttonEl.style.display =\n",
              "          google.colab.kernel.accessAllowed ? 'block' : 'none';\n",
              "\n",
              "        async function convertToInteractive(key) {\n",
              "          const element = document.querySelector('#df-ffbb1adb-27d3-4dfa-a37e-1a414f5f5232');\n",
              "          const dataTable =\n",
              "            await google.colab.kernel.invokeFunction('convertToInteractive',\n",
              "                                                     [key], {});\n",
              "          if (!dataTable) return;\n",
              "\n",
              "          const docLinkHtml = 'Like what you see? Visit the ' +\n",
              "            '<a target=\"_blank\" href=https://colab.research.google.com/notebooks/data_table.ipynb>data table notebook</a>'\n",
              "            + ' to learn more about interactive tables.';\n",
              "          element.innerHTML = '';\n",
              "          dataTable['output_type'] = 'display_data';\n",
              "          await google.colab.output.renderOutput(dataTable, element);\n",
              "          const docLink = document.createElement('div');\n",
              "          docLink.innerHTML = docLinkHtml;\n",
              "          element.appendChild(docLink);\n",
              "        }\n",
              "      </script>\n",
              "    </div>\n",
              "  </div>\n",
              "  "
            ],
            "text/plain": [
              "           Date    HomeTeam      AwayTeam  FTHG  FTAG FTR\n",
              "0    06/08/2021   Sp Lisbon        Vizela     3     0   H\n",
              "1    07/08/2021      Arouca       Estoril     0     2   A\n",
              "2    07/08/2021  Moreirense       Benfica     1     2   A\n",
              "3    07/08/2021    Maritimo      Sp Braga     0     2   A\n",
              "4    08/08/2021   Guimaraes  Portimonense     0     1   A\n",
              "..          ...         ...           ...   ...   ...  ..\n",
              "301  14/05/2022    Maritimo  Portimonense     0     1   A\n",
              "302  14/05/2022       Porto       Estoril     2     0   H\n",
              "303  14/05/2022   Sp Lisbon   Santa Clara     4     0   H\n",
              "304  15/05/2022   Famalicao      Sp Braga     3     2   H\n",
              "305  15/05/2022   Guimaraes   Gil Vicente     5     0   H\n",
              "\n",
              "[306 rows x 6 columns]"
            ]
          },
          "execution_count": 16,
          "metadata": {},
          "output_type": "execute_result"
        }
      ],
      "source": [
        "df = pd.read_csv(\"https://www.football-data.co.uk/mmz4281/2122/P1.csv\")\n",
        "df[[\"Date\", \"HomeTeam\", \"AwayTeam\", \"FTHG\", \"FTAG\", \"FTR\"]]"
      ]
    },
    {
      "cell_type": "markdown",
      "metadata": {
        "id": "wzZOl6RF1kxI"
      },
      "source": [
        "However, the way we determine the parameters is different."
      ]
    },
    {
      "cell_type": "markdown",
      "metadata": {
        "id": "xHoKi_bsxq2T"
      },
      "source": [
        "## **New Parameter $ρ$**\n",
        "\n",
        "Dixon and Coles recognized that the Poisson model had weaknesses and, as a result, proposed adding an extra parameter ($ρ$) to the model, which introduces dependence between the results. This is done in such a way that the Poisson distribution maintains the same profile, meaning we still have a Poisson distribution with a certain degree of confidence."
      ]
    },
    {
      "cell_type": "code",
      "execution_count": null,
      "metadata": {
        "id": "Uwj9kwvQx5xG"
      },
      "outputs": [],
      "source": [
        "def rho_correction(goals_home, goals_away, home_exp, away_exp, rho):\n",
        "    if goals_home == 0 and goals_away == 0:\n",
        "        return 1 - (home_exp * away_exp * rho)\n",
        "    elif goals_home == 0 and goals_away == 1:\n",
        "        return 1 + (home_exp * rho)\n",
        "    elif goals_home == 1 and goals_away == 0:\n",
        "        return 1 + (away_exp * rho)\n",
        "    elif goals_home == 1 and goals_away == 1:\n",
        "        return 1 - rho\n",
        "    else:\n",
        "        return 1.0"
      ]
    },
    {
      "cell_type": "markdown",
      "metadata": {
        "id": "CTSXPMfQx8oi"
      },
      "source": [
        "Next, we need to modify the *log_likelihood* function to calculate the new *rho_correction* and add it to our *log-likelihood*."
      ]
    },
    {
      "cell_type": "code",
      "execution_count": null,
      "metadata": {
        "id": "jLnhH1UGyiHt"
      },
      "outputs": [],
      "source": [
        "def log_likelihood(goals_home_observed,goals_away_observed,home_attack,home_defence,away_attack,away_defence,home_advantage,rho,):\n",
        "    goal_expectation_home = np.exp(home_attack + away_defence + home_advantage)\n",
        "    goal_expectation_away = np.exp(away_attack + home_defence)\n",
        "    home_llk = poisson.pmf(goals_home_observed, goal_expectation_home)\n",
        "    away_llk = poisson.pmf(goals_away_observed, goal_expectation_away)\n",
        "    adj_llk = rho_correction(goals_home_observed,goals_away_observed,goal_expectation_home,goal_expectation_away,rho,)\n",
        "\n",
        "    if goal_expectation_home < 0 or goal_expectation_away < 0 or adj_llk < 0:\n",
        "        return 10000\n",
        "    log_llk = np.log(home_llk) + np.log(away_llk) + np.log(adj_llk)\n",
        "\n",
        "    return -log_llk"
      ]
    },
    {
      "cell_type": "markdown",
      "metadata": {
        "id": "RbTFuo_sykcZ"
      },
      "source": [
        "Next, we made some changes to the $fit\\_poisson\\_model$ function to incorporate the $rho$ parameter."
      ]
    },
    {
      "cell_type": "code",
      "execution_count": null,
      "metadata": {
        "id": "aBM-peiW7_gf"
      },
      "outputs": [],
      "source": [
        "from pprint import pprint\n",
        "import numpy as np\n",
        "from scipy.optimize import minimize\n",
        "from scipy.stats import poisson\n",
        "\n",
        "\n",
        "def fit_poisson_model():\n",
        "    teams = np.sort(np.unique(np.concatenate([df[\"HomeTeam\"], df[\"AwayTeam\"]])))\n",
        "    n_teams = len(teams)\n",
        "    params = np.concatenate((\n",
        "            np.random.uniform(0.5, 1.5, (n_teams)),  # força atacante\n",
        "            np.random.uniform(0, -1, (n_teams)),  # força defensiva\n",
        "            [0.25],  # vantagem de jogar em casa\n",
        "            [-0.1], # rho (novo parâmetro)\n",
        "            )\n",
        "    )\n",
        "\n",
        "    def _fit(params, df, teams):\n",
        "        attack_params = dict(zip(teams, params[:n_teams]))\n",
        "        defence_params = dict(zip(teams, params[n_teams : (2 * n_teams)]))\n",
        "        home_advantage = params[-2]\n",
        "        rho = params[-1]\n",
        "        llk = list()\n",
        "        for idx, row in df.iterrows():\n",
        "            tmp = log_likelihood(\n",
        "                row[\"FTHG\"],\n",
        "                row[\"FTAG\"],\n",
        "                attack_params[row[\"HomeTeam\"]],\n",
        "                defence_params[row[\"HomeTeam\"]],\n",
        "                attack_params[row[\"AwayTeam\"]],\n",
        "                defence_params[row[\"AwayTeam\"]],\n",
        "                home_advantage,\n",
        "                rho)\n",
        "            llk.append(tmp)\n",
        "\n",
        "        return np.sum(llk)\n",
        "\n",
        "    options = {\"maxiter\": 100,\"disp\": False,}\n",
        "    constraints = [{\"type\": \"eq\", \"fun\": lambda x: sum(x[:n_teams]) - n_teams}]\n",
        "    res = minimize(_fit,params,args=(df, teams),constraints=constraints,options=options,)\n",
        "    model_params = dict(\n",
        "        zip([\"attack_\" + team for team in teams]+ [\"defence_\" + team for team in teams]\n",
        "            + [\"home_adv\", \"rho\"],\n",
        "            res[\"x\"],))\n",
        "    print(\"Log Likelihood: \", res[\"fun\"])\n",
        "\n",
        "    return model_params"
      ]
    },
    {
      "cell_type": "markdown",
      "metadata": {
        "id": "8c2GkYud8-od"
      },
      "source": [
        "### **Attacking Strength II, Defensive Strength II, and Home Advantage III**\n",
        "\n",
        "Let's run the previous function and obtain the system parameters:"
      ]
    },
    {
      "cell_type": "code",
      "execution_count": null,
      "metadata": {
        "colab": {
          "base_uri": "https://localhost:8080/"
        },
        "id": "EnGNjxMO877w",
        "outputId": "a645580b-d3b0-46f6-aa47-41127684e35c"
      },
      "outputs": [
        {
          "name": "stderr",
          "output_type": "stream",
          "text": [
            "<ipython-input-18-551677969658>:10: RuntimeWarning: divide by zero encountered in log\n",
            "  log_llk = np.log(home_llk) + np.log(away_llk) + np.log(adj_llk)\n"
          ]
        },
        {
          "name": "stdout",
          "output_type": "stream",
          "text": [
            "Log Likelihood:  822.5457175134568\n",
            "{'attack_Arouca': 0.6752924780097908,\n",
            " 'attack_Belenenses': 0.4219381780484067,\n",
            " 'attack_Benfica': 1.5953680833492,\n",
            " 'attack_Boavista': 0.9393617011888618,\n",
            " 'attack_Estoril': 0.8547272609379586,\n",
            " 'attack_Famalicao': 1.0968437470139158,\n",
            " 'attack_Gil Vicente': 1.1016267530551809,\n",
            " 'attack_Guimaraes': 1.1567688369474356,\n",
            " 'attack_Maritimo': 0.913964051470551,\n",
            " 'attack_Moreirense': 0.7364543167125074,\n",
            " 'attack_Pacos Ferreira': 0.6392182136004088,\n",
            " 'attack_Portimonense': 0.6791516326021867,\n",
            " 'attack_Porto': 1.684209161166438,\n",
            " 'attack_Santa Clara': 0.9258692764631986,\n",
            " 'attack_Sp Braga': 1.193164314210764,\n",
            " 'attack_Sp Lisbon': 1.5248898476470614,\n",
            " 'attack_Tondela': 0.991417333440205,\n",
            " 'attack_Vizela': 0.8697348141359277,\n",
            " 'defence_Arouca': -0.6962798054955369,\n",
            " 'defence_Belenenses': -0.6884697549295405,\n",
            " 'defence_Benfica': -1.2279792322473346,\n",
            " 'defence_Boavista': -0.7277496767130793,\n",
            " 'defence_Estoril': -0.9148372752929765,\n",
            " 'defence_Famalicao': -0.7241019074360814,\n",
            " 'defence_Gil Vicente': -0.9485144744498459,\n",
            " 'defence_Guimaraes': -0.9490075121094468,\n",
            " 'defence_Maritimo': -0.8947024979779976,\n",
            " 'defence_Moreirense': -0.7611271350423352,\n",
            " 'defence_Pacos Ferreira': -0.9082958642044661,\n",
            " 'defence_Portimonense': -0.913719561825136,\n",
            " 'defence_Porto': -1.5572072583870709,\n",
            " 'defence_Santa Clara': -0.6902017983315661,\n",
            " 'defence_Sp Braga': -1.2421150026465182,\n",
            " 'defence_Sp Lisbon': -1.5162954245459304,\n",
            " 'defence_Tondela': -0.4705506588550282,\n",
            " 'defence_Vizela': -0.6185217637576121,\n",
            " 'home_adv': 0.1673368283661917,\n",
            " 'rho': -0.14391638153316377}\n"
          ]
        }
      ],
      "source": [
        "model_params = fit_poisson_model()\n",
        "pprint(model_params)"
      ]
    },
    {
      "cell_type": "markdown",
      "metadata": {
        "id": "asmR8gRJ-dOv"
      },
      "source": [
        "Our log-likelihood is `822.54`, which is lower than the previous value of `823.93`, meaning the new model provides a better 'fit' for our dataset. The home advantage is at `16.7%`, slightly lower compared to the values from the previous model (`18.7%` | `17.1%`)."
      ]
    },
    {
      "cell_type": "markdown",
      "metadata": {
        "id": "P_MgWSlH_F3W"
      },
      "source": [
        "### **Meaning of the Variable Rho ($\\rho$) and Result Prediction II**\n",
        "\n",
        "As previously mentioned, our first model predicted the outcome of a match regardless of the number of goals. However, in reality, there is a dependency. For example, if the game is tied at `0-0` with five minutes remaining, the weaker team may choose to reduce its attacking strength and increase its defensive strength.\n",
        "\n",
        "Adding the parameter *rho* is an attempt to correct this issue by creating a dependency between possible outcomes.\n",
        "\n",
        "As an example, let's examine the difference in probability for the results `0-0`, `1-0`, and `0-1` before and after applying the *rho* parameter.\n",
        "\n",
        "To do this, we will follow these steps:\n",
        "\n",
        "1. First, we obtain the parameters and apply them to our model to predict the number of goals scored.\n",
        "2. Next, we use the model to determine the probabilities of scoring 0 or 1 goals, given that the *rho* parameter only affects outcomes with 0 and 1 goals.\n",
        "3. By performing vector multiplication and obtaining probability matrices, we apply the Dixon and Coles adjustment and return the probabilities."
      ]
    },
    {
      "cell_type": "code",
      "execution_count": null,
      "metadata": {
        "colab": {
          "base_uri": "https://localhost:8080/"
        },
        "id": "E4Wi8RI9o0Pt",
        "outputId": "79520d8b-4e7f-4243-827a-2b865f0e4ae8"
      },
      "outputs": [
        {
          "name": "stdout",
          "output_type": "stream",
          "text": [
            "[[ 0.01685607 -0.01685607]\n",
            " [-0.01685607  0.01685607]]\n"
          ]
        }
      ],
      "source": [
        "home_team = \"Benfica\"\n",
        "away_team = \"Porto\"\n",
        "home_attack = model_params[\"attack_\" + home_team]\n",
        "home_defence = model_params[\"defence_\" + home_team]\n",
        "away_attack = model_params[\"attack_\" + away_team]\n",
        "away_defence = model_params[\"defence_\" + away_team]\n",
        "home_advantage = model_params[\"home_adv\"]\n",
        "rho = model_params[\"rho\"]\n",
        "\n",
        "home_goal_expectation = np.exp(home_attack + away_defence + home_advantage)\n",
        "away_goal_expectation = np.exp(away_attack + home_defence)\n",
        "home_probs = poisson.pmf([0, 1], home_goal_expectation)\n",
        "away_probs = poisson.pmf([0, 1], away_goal_expectation)\n",
        "\n",
        "probability_matrix_before = np.outer(home_probs, away_probs)\n",
        "probability_matrix_after = probability_matrix_before.copy()\n",
        "probability_matrix_after[0, 0] *= 1 - home_goal_expectation * away_goal_expectation * rho\n",
        "probability_matrix_after[0, 1] *= 1 + home_goal_expectation * rho\n",
        "probability_matrix_after[1, 0] *= 1 + away_goal_expectation * rho\n",
        "probability_matrix_after[1, 1] *= 1 - rho\n",
        "\n",
        "print(probability_matrix_after - probability_matrix_before)"
      ]
    },
    {
      "cell_type": "markdown",
      "metadata": {
        "id": "plk48UgLo8Hr"
      },
      "source": [
        "The probability of `0-0`, the 1x1 element of the matrix, increased by `0.01685`, which caused the 1x2 element of the matrix to decrease by `-0.01685`. This means that the adjustment proposed by Dixon and Coles increased the probability of `0-0` by `0.01685`, while reducing the probability of `1-0` by `-0.01685`.\n",
        "\n",
        "The opposite also occurred: the probability of `1-1` increased at the expense of a decrease in the probability of `0-1`.\n",
        "\n",
        "Therefore, the proposed adjustment increases the probability of low-scoring draws, in contrast to the original Poisson model. While not a substantial change, it is an improvement to our model."
      ]
    },
    {
      "cell_type": "markdown",
      "metadata": {
        "id": "WNu36efqt8CW"
      },
      "source": [
        "## **Time Factor $t$**\n",
        "\n",
        "At the moment, we assume that attacking and defensive strength remain constant, but in reality, they change over time. Suppose a team scores many goals in one season but not in others. If we use that high-scoring season as our dataset to fit our model, the model will assign an excessively high rating to that team.\n",
        "\n",
        "This raises an important question:\n",
        "\n",
        "> *How do we determine how much information to provide to our model?*\n",
        "\n",
        "Dixon and Coles propose using an exponential decay to reduce the weight of match results based on how much time has passed since they occurred. This allows the model to be trained on a more extensive temporal dataset, giving more importance to recent matches while still retaining some weight for older matches.\n",
        "\n",
        "The proposed function is:\n",
        "\n",
        "> $\\phi(t) = \\exp(-\\xi t)$\n",
        "\n",
        "Below is its implementation in Python, where $\\xi$ controls the downweighting, and $t$ represents the time elapsed since the match occurred."
      ]
    },
    {
      "cell_type": "code",
      "execution_count": null,
      "metadata": {
        "id": "XDHDNtHzJ_OP"
      },
      "outputs": [],
      "source": [
        "def dc_decay(xi, t):\n",
        "    return np.exp(-xi * t)"
      ]
    },
    {
      "cell_type": "markdown",
      "metadata": {
        "id": "sc87t8s2KAUC"
      },
      "source": [
        "Let's plot our function with different values of $\\xi$ to see how $\\xi$ influences the results. The lower the weight, the less important a match becomes over time."
      ]
    },
    {
      "cell_type": "code",
      "execution_count": null,
      "metadata": {
        "colab": {
          "base_uri": "https://localhost:8080/",
          "height": 303
        },
        "id": "_wWXingUKAok",
        "outputId": "256b9c0a-8a16-4690-a320-6167f55d491d"
      },
      "outputs": [
        {
          "data": {
            "text/plain": [
              "Text(0, 0.5, 'Peso')"
            ]
          },
          "execution_count": 40,
          "metadata": {},
          "output_type": "execute_result"
        },
        {
          "data": {
            "image/png": "[encoded data removed]",
            "text/plain": [
              "<Figure size 432x288 with 1 Axes>"
            ]
          },
          "metadata": {},
          "output_type": "display_data"
        }
      ],
      "source": [
        "import matplotlib.pyplot as plt\n",
        "import seaborn as sns\n",
        "\n",
        "sns.set()\n",
        "t = np.array(range(1000))\n",
        "xis = [0.001, 0.003, 0.005]\n",
        "for xi in xis:\n",
        "    plt.plot(t, dc_decay(xi, t), label=str(xi))\n",
        "\n",
        "plt.legend()\n",
        "plt.xlabel(\"Número de dias passados\")\n",
        "plt.ylabel(\"Peso\")"
      ]
    },
    {
      "cell_type": "markdown",
      "metadata": {
        "id": "u81qfFLiTpF5"
      },
      "source": [
        "### **Optimization of the Time Factor**  \n",
        "\n",
        "The greater the $\\xi$ factor, the faster the decay over time. This raises the question: what is the optimal value for $\\xi$?  \n",
        "\n",
        "The general idea would be to optimize the attacking and defensive strength parameters of the model in the same way while varying the values of $\\xi$ until we achieve the best model performance. We would still use the *log-likelihood* optimizer, but we need a different metric to analyze various $\\xi$ values and determine the best one. The metric proposed by Dixon and Coles is the *Rank Probability Score*.  \n",
        "\n",
        "> [Dixon & Coles Paper](http://constantinou.info/downloads/papers/solvingtheproblem.pdf)  \n",
        "\n",
        "*Rank Probability Score* was proposed by Edward S. Epstein in 1969 as a method to compare probabilistic predictions against categorical data.  \n",
        "\n",
        "> [Epstein's Paper](https://journals.ametsoc.org/view/journals/apme/8/6/1520-0450_1969_008_0985_assfpf_2_0_co_2.xml?tab_body=pdf)  \n",
        "\n",
        "The main advantage is that, in addition to considering accuracy, it also accounts for the distance between the predicted and actual outcomes. This means we can measure the accuracy of win/draw/loss probabilities for each game and evaluate the overall error.  \n",
        "\n",
        "**Note:**  \n",
        "Due to the complexity of this task and the current scope of the project, we have decided not to proceed further with the development of this parameter.  "
      ]
    },
    {
      "cell_type": "markdown",
      "metadata": {
        "id": "8MrA2xTsuBjP"
      },
      "source": [
        "## **Conclusion**  \n",
        "\n",
        "In this section, we modified the Poisson model to establish a dependency between match outcomes and the number of goals in cases such as `0-0`, `1-0`, and `0-1`, by introducing a new parameter, $\\rho$. We also introduced and explained, but did not implement—due to its complexity—the possibility of incorporating a new temporal parameter, $t$, into the model. This parameter would influence the final prediction results as well as the attacking and defensive strength.  \n",
        "\n",
        "While the overall model has improved, there are other methods to simulate, predict, and model football match results. In the next section, we will introduce another approach.  "
      ]
    },
    {
      "cell_type": "markdown",
      "metadata": {},
      "source": [
        "# **Model III - Bayesian Hierarchical Model and PyMC3**\n",
        "\n",
        "This section is based on the following paper:\n",
        "\n",
        "*   *Bayesian Hierarchical Model for the Prediction of Football Results*\n",
        "*   [https://discovery.ucl.ac.uk/id/eprint/16040/1/16040.pdf](https://discovery.ucl.ac.uk/id/eprint/16040/1/16040.pdf)\n",
        "\n",
        "In this section, we will use a Bayesian Hierarchical Model to predict football match results and compare the outcomes with the previous models.\n"
      ]
    },
    {
      "cell_type": "markdown",
      "metadata": {
        "id": "V_NNyef7u9bW"
      },
      "source": [
        "## **Datasets and Model**  \n",
        "\n",
        "The columns `home_team` and `away_team` contain the names of the teams, while `yg1` and `yg2` represent the number of goals scored by the home and away teams, respectively. We also retained the date column and the match result.  "
      ]
    },
    {
      "cell_type": "code",
      "execution_count": null,
      "metadata": {
        "colab": {
          "base_uri": "https://localhost:8080/",
          "height": 423
        },
        "id": "9SC-BEbKqQLQ",
        "outputId": "3652d956-59bd-4dd0-fbd5-560e5721a515"
      },
      "outputs": [
        {
          "data": {
            "text/html": [
              "\n",
              "  <div id=\"df-d0667650-938a-442a-9171-572491e47676\">\n",
              "    <div class=\"colab-df-container\">\n",
              "      <div>\n",
              "<style scoped>\n",
              "    .dataframe tbody tr th:only-of-type {\n",
              "        vertical-align: middle;\n",
              "    }\n",
              "\n",
              "    .dataframe tbody tr th {\n",
              "        vertical-align: top;\n",
              "    }\n",
              "\n",
              "    .dataframe thead th {\n",
              "        text-align: right;\n",
              "    }\n",
              "</style>\n",
              "<table border=\"1\" class=\"dataframe\">\n",
              "  <thead>\n",
              "    <tr style=\"text-align: right;\">\n",
              "      <th></th>\n",
              "      <th>Date</th>\n",
              "      <th>home_team</th>\n",
              "      <th>away_team</th>\n",
              "      <th>yg1</th>\n",
              "      <th>yg2</th>\n",
              "      <th>result</th>\n",
              "    </tr>\n",
              "  </thead>\n",
              "  <tbody>\n",
              "    <tr>\n",
              "      <th>0</th>\n",
              "      <td>06/08/2021</td>\n",
              "      <td>Sp Lisbon</td>\n",
              "      <td>Vizela</td>\n",
              "      <td>3</td>\n",
              "      <td>0</td>\n",
              "      <td>H</td>\n",
              "    </tr>\n",
              "    <tr>\n",
              "      <th>1</th>\n",
              "      <td>07/08/2021</td>\n",
              "      <td>Arouca</td>\n",
              "      <td>Estoril</td>\n",
              "      <td>0</td>\n",
              "      <td>2</td>\n",
              "      <td>A</td>\n",
              "    </tr>\n",
              "    <tr>\n",
              "      <th>2</th>\n",
              "      <td>07/08/2021</td>\n",
              "      <td>Moreirense</td>\n",
              "      <td>Benfica</td>\n",
              "      <td>1</td>\n",
              "      <td>2</td>\n",
              "      <td>A</td>\n",
              "    </tr>\n",
              "    <tr>\n",
              "      <th>3</th>\n",
              "      <td>07/08/2021</td>\n",
              "      <td>Maritimo</td>\n",
              "      <td>Sp Braga</td>\n",
              "      <td>0</td>\n",
              "      <td>2</td>\n",
              "      <td>A</td>\n",
              "    </tr>\n",
              "    <tr>\n",
              "      <th>4</th>\n",
              "      <td>08/08/2021</td>\n",
              "      <td>Guimaraes</td>\n",
              "      <td>Portimonense</td>\n",
              "      <td>0</td>\n",
              "      <td>1</td>\n",
              "      <td>A</td>\n",
              "    </tr>\n",
              "    <tr>\n",
              "      <th>...</th>\n",
              "      <td>...</td>\n",
              "      <td>...</td>\n",
              "      <td>...</td>\n",
              "      <td>...</td>\n",
              "      <td>...</td>\n",
              "      <td>...</td>\n",
              "    </tr>\n",
              "    <tr>\n",
              "      <th>301</th>\n",
              "      <td>25/07/2020</td>\n",
              "      <td>Benfica</td>\n",
              "      <td>Sp Lisbon</td>\n",
              "      <td>2</td>\n",
              "      <td>1</td>\n",
              "      <td>H</td>\n",
              "    </tr>\n",
              "    <tr>\n",
              "      <th>302</th>\n",
              "      <td>25/07/2020</td>\n",
              "      <td>Sp Braga</td>\n",
              "      <td>Porto</td>\n",
              "      <td>2</td>\n",
              "      <td>1</td>\n",
              "      <td>H</td>\n",
              "    </tr>\n",
              "    <tr>\n",
              "      <th>303</th>\n",
              "      <td>26/07/2020</td>\n",
              "      <td>Moreirense</td>\n",
              "      <td>Tondela</td>\n",
              "      <td>1</td>\n",
              "      <td>2</td>\n",
              "      <td>A</td>\n",
              "    </tr>\n",
              "    <tr>\n",
              "      <th>304</th>\n",
              "      <td>26/07/2020</td>\n",
              "      <td>Portimonense</td>\n",
              "      <td>Aves</td>\n",
              "      <td>2</td>\n",
              "      <td>0</td>\n",
              "      <td>H</td>\n",
              "    </tr>\n",
              "    <tr>\n",
              "      <th>305</th>\n",
              "      <td>26/07/2020</td>\n",
              "      <td>Setubal</td>\n",
              "      <td>Belenenses</td>\n",
              "      <td>2</td>\n",
              "      <td>0</td>\n",
              "      <td>H</td>\n",
              "    </tr>\n",
              "  </tbody>\n",
              "</table>\n",
              "<p>918 rows × 6 columns</p>\n",
              "</div>\n",
              "      <button class=\"colab-df-convert\" onclick=\"convertToInteractive('df-d0667650-938a-442a-9171-572491e47676')\"\n",
              "              title=\"Convert this dataframe to an interactive table.\"\n",
              "              style=\"display:none;\">\n",
              "        \n",
              "  <svg xmlns=\"http://www.w3.org/2000/svg\" height=\"24px\"viewBox=\"0 0 24 24\"\n",
              "       width=\"24px\">\n",
              "    <path d=\"M0 0h24v24H0V0z\" fill=\"none\"/>\n",
              "    <path d=\"M18.56 5.44l.94 2.06.94-2.06 2.06-.94-2.06-.94-.94-2.06-.94 2.06-2.06.94zm-11 1L8.5 8.5l.94-2.06 2.06-.94-2.06-.94L8.5 2.5l-.94 2.06-2.06.94zm10 10l.94 2.06.94-2.06 2.06-.94-2.06-.94-.94-2.06-.94 2.06-2.06.94z\"/><path d=\"M17.41 7.96l-1.37-1.37c-.4-.4-.92-.59-1.43-.59-.52 0-1.04.2-1.43.59L10.3 9.45l-7.72 7.72c-.78.78-.78 2.05 0 2.83L4 21.41c.39.39.9.59 1.41.59.51 0 1.02-.2 1.41-.59l7.78-7.78 2.81-2.81c.8-.78.8-2.07 0-2.86zM5.41 20L4 18.59l7.72-7.72 1.47 1.35L5.41 20z\"/>\n",
              "  </svg>\n",
              "      </button>\n",
              "      \n",
              "  <style>\n",
              "    .colab-df-container {\n",
              "      display:flex;\n",
              "      flex-wrap:wrap;\n",
              "      gap: 12px;\n",
              "    }\n",
              "\n",
              "    .colab-df-convert {\n",
              "      background-color: #E8F0FE;\n",
              "      border: none;\n",
              "      border-radius: 50%;\n",
              "      cursor: pointer;\n",
              "      display: none;\n",
              "      fill: #1967D2;\n",
              "      height: 32px;\n",
              "      padding: 0 0 0 0;\n",
              "      width: 32px;\n",
              "    }\n",
              "\n",
              "    .colab-df-convert:hover {\n",
              "      background-color: #E2EBFA;\n",
              "      box-shadow: 0px 1px 2px rgba(60, 64, 67, 0.3), 0px 1px 3px 1px rgba(60, 64, 67, 0.15);\n",
              "      fill: #174EA6;\n",
              "    }\n",
              "\n",
              "    [theme=dark] .colab-df-convert {\n",
              "      background-color: #3B4455;\n",
              "      fill: #D2E3FC;\n",
              "    }\n",
              "\n",
              "    [theme=dark] .colab-df-convert:hover {\n",
              "      background-color: #434B5C;\n",
              "      box-shadow: 0px 1px 3px 1px rgba(0, 0, 0, 0.15);\n",
              "      filter: drop-shadow(0px 1px 2px rgba(0, 0, 0, 0.3));\n",
              "      fill: #FFFFFF;\n",
              "    }\n",
              "  </style>\n",
              "\n",
              "      <script>\n",
              "        const buttonEl =\n",
              "          document.querySelector('#df-d0667650-938a-442a-9171-572491e47676 button.colab-df-convert');\n",
              "        buttonEl.style.display =\n",
              "          google.colab.kernel.accessAllowed ? 'block' : 'none';\n",
              "\n",
              "        async function convertToInteractive(key) {\n",
              "          const element = document.querySelector('#df-d0667650-938a-442a-9171-572491e47676');\n",
              "          const dataTable =\n",
              "            await google.colab.kernel.invokeFunction('convertToInteractive',\n",
              "                                                     [key], {});\n",
              "          if (!dataTable) return;\n",
              "\n",
              "          const docLinkHtml = 'Like what you see? Visit the ' +\n",
              "            '<a target=\"_blank\" href=https://colab.research.google.com/notebooks/data_table.ipynb>data table notebook</a>'\n",
              "            + ' to learn more about interactive tables.';\n",
              "          element.innerHTML = '';\n",
              "          dataTable['output_type'] = 'display_data';\n",
              "          await google.colab.output.renderOutput(dataTable, element);\n",
              "          const docLink = document.createElement('div');\n",
              "          docLink.innerHTML = docLinkHtml;\n",
              "          element.appendChild(docLink);\n",
              "        }\n",
              "      </script>\n",
              "    </div>\n",
              "  </div>\n",
              "  "
            ],
            "text/plain": [
              "           Date     home_team     away_team  yg1  yg2 result\n",
              "0    06/08/2021     Sp Lisbon        Vizela    3    0      H\n",
              "1    07/08/2021        Arouca       Estoril    0    2      A\n",
              "2    07/08/2021    Moreirense       Benfica    1    2      A\n",
              "3    07/08/2021      Maritimo      Sp Braga    0    2      A\n",
              "4    08/08/2021     Guimaraes  Portimonense    0    1      A\n",
              "..          ...           ...           ...  ...  ...    ...\n",
              "301  25/07/2020       Benfica     Sp Lisbon    2    1      H\n",
              "302  25/07/2020      Sp Braga         Porto    2    1      H\n",
              "303  26/07/2020    Moreirense       Tondela    1    2      A\n",
              "304  26/07/2020  Portimonense          Aves    2    0      H\n",
              "305  26/07/2020       Setubal    Belenenses    2    0      H\n",
              "\n",
              "[918 rows x 6 columns]"
            ]
          },
          "execution_count": 80,
          "metadata": {},
          "output_type": "execute_result"
        }
      ],
      "source": [
        "import pandas as pd\n",
        "\n",
        "df1 = pd.read_csv(\"https://www.football-data.co.uk/mmz4281/2122/P1.csv\")\n",
        "df2 = pd.read_csv(\"https://www.football-data.co.uk/mmz4281/2021/P1.csv\")\n",
        "df3 = pd.read_csv(\"https://www.football-data.co.uk/mmz4281/1920/P1.csv\")\n",
        "\n",
        "frames = [df1, df2, df3]\n",
        "\n",
        "df = pd.concat(frames).rename(\n",
        "    columns={\"HomeTeam\": \"home_team\",\n",
        "             \"AwayTeam\": \"away_team\",\n",
        "             \"FTHG\": \"yg1\",\n",
        "             \"FTAG\": \"yg2\",\n",
        "             \"FTR\": \"result\"})\n",
        "df = df[[\"Date\", \"home_team\", \"away_team\", \"yg1\", \"yg2\", \"result\"]]\n",
        "\n",
        "df"
      ]
    },
    {
      "cell_type": "markdown",
      "metadata": {
        "id": "vnXug1KKEhZv"
      },
      "source": [
        "Each team is assigned an `ID`, which will facilitate its identification in the future."
      ]
    },
    {
      "cell_type": "code",
      "execution_count": null,
      "metadata": {
        "colab": {
          "base_uri": "https://localhost:8080/",
          "height": 206
        },
        "id": "QRLekMcSgmEx",
        "outputId": "6e8ef57d-d4a6-466b-90a8-8978928d3b0b"
      },
      "outputs": [
        {
          "data": {
            "text/html": [
              "\n",
              "  <div id=\"df-9e5bd0ab-b017-405a-9790-3d46870ff2aa\">\n",
              "    <div class=\"colab-df-container\">\n",
              "      <div>\n",
              "<style scoped>\n",
              "    .dataframe tbody tr th:only-of-type {\n",
              "        vertical-align: middle;\n",
              "    }\n",
              "\n",
              "    .dataframe tbody tr th {\n",
              "        vertical-align: top;\n",
              "    }\n",
              "\n",
              "    .dataframe thead th {\n",
              "        text-align: right;\n",
              "    }\n",
              "</style>\n",
              "<table border=\"1\" class=\"dataframe\">\n",
              "  <thead>\n",
              "    <tr style=\"text-align: right;\">\n",
              "      <th></th>\n",
              "      <th>Date</th>\n",
              "      <th>home_team</th>\n",
              "      <th>away_team</th>\n",
              "      <th>yg1</th>\n",
              "      <th>yg2</th>\n",
              "      <th>result</th>\n",
              "      <th>hg</th>\n",
              "      <th>ag</th>\n",
              "    </tr>\n",
              "  </thead>\n",
              "  <tbody>\n",
              "    <tr>\n",
              "      <th>599</th>\n",
              "      <td>01/02/2020</td>\n",
              "      <td>Santa Clara</td>\n",
              "      <td>Pacos Ferreira</td>\n",
              "      <td>2</td>\n",
              "      <td>1</td>\n",
              "      <td>H</td>\n",
              "      <td>17</td>\n",
              "      <td>13</td>\n",
              "    </tr>\n",
              "    <tr>\n",
              "      <th>117</th>\n",
              "      <td>01/02/2020</td>\n",
              "      <td>Setubal</td>\n",
              "      <td>Porto</td>\n",
              "      <td>0</td>\n",
              "      <td>4</td>\n",
              "      <td>A</td>\n",
              "      <td>18</td>\n",
              "      <td>15</td>\n",
              "    </tr>\n",
              "    <tr>\n",
              "      <th>304</th>\n",
              "      <td>01/02/2020</td>\n",
              "      <td>Portimonense</td>\n",
              "      <td>Tondela</td>\n",
              "      <td>0</td>\n",
              "      <td>1</td>\n",
              "      <td>A</td>\n",
              "      <td>14</td>\n",
              "      <td>21</td>\n",
              "    </tr>\n",
              "    <tr>\n",
              "      <th>57</th>\n",
              "      <td>01/02/2021</td>\n",
              "      <td>Santa Clara</td>\n",
              "      <td>Belenenses</td>\n",
              "      <td>2</td>\n",
              "      <td>0</td>\n",
              "      <td>H</td>\n",
              "      <td>17</td>\n",
              "      <td>2</td>\n",
              "    </tr>\n",
              "    <tr>\n",
              "      <th>613</th>\n",
              "      <td>01/02/2021</td>\n",
              "      <td>Sp Lisbon</td>\n",
              "      <td>Benfica</td>\n",
              "      <td>1</td>\n",
              "      <td>0</td>\n",
              "      <td>H</td>\n",
              "      <td>20</td>\n",
              "      <td>3</td>\n",
              "    </tr>\n",
              "  </tbody>\n",
              "</table>\n",
              "</div>\n",
              "      <button class=\"colab-df-convert\" onclick=\"convertToInteractive('df-9e5bd0ab-b017-405a-9790-3d46870ff2aa')\"\n",
              "              title=\"Convert this dataframe to an interactive table.\"\n",
              "              style=\"display:none;\">\n",
              "        \n",
              "  <svg xmlns=\"http://www.w3.org/2000/svg\" height=\"24px\"viewBox=\"0 0 24 24\"\n",
              "       width=\"24px\">\n",
              "    <path d=\"M0 0h24v24H0V0z\" fill=\"none\"/>\n",
              "    <path d=\"M18.56 5.44l.94 2.06.94-2.06 2.06-.94-2.06-.94-.94-2.06-.94 2.06-2.06.94zm-11 1L8.5 8.5l.94-2.06 2.06-.94-2.06-.94L8.5 2.5l-.94 2.06-2.06.94zm10 10l.94 2.06.94-2.06 2.06-.94-2.06-.94-.94-2.06-.94 2.06-2.06.94z\"/><path d=\"M17.41 7.96l-1.37-1.37c-.4-.4-.92-.59-1.43-.59-.52 0-1.04.2-1.43.59L10.3 9.45l-7.72 7.72c-.78.78-.78 2.05 0 2.83L4 21.41c.39.39.9.59 1.41.59.51 0 1.02-.2 1.41-.59l7.78-7.78 2.81-2.81c.8-.78.8-2.07 0-2.86zM5.41 20L4 18.59l7.72-7.72 1.47 1.35L5.41 20z\"/>\n",
              "  </svg>\n",
              "      </button>\n",
              "      \n",
              "  <style>\n",
              "    .colab-df-container {\n",
              "      display:flex;\n",
              "      flex-wrap:wrap;\n",
              "      gap: 12px;\n",
              "    }\n",
              "\n",
              "    .colab-df-convert {\n",
              "      background-color: #E8F0FE;\n",
              "      border: none;\n",
              "      border-radius: 50%;\n",
              "      cursor: pointer;\n",
              "      display: none;\n",
              "      fill: #1967D2;\n",
              "      height: 32px;\n",
              "      padding: 0 0 0 0;\n",
              "      width: 32px;\n",
              "    }\n",
              "\n",
              "    .colab-df-convert:hover {\n",
              "      background-color: #E2EBFA;\n",
              "      box-shadow: 0px 1px 2px rgba(60, 64, 67, 0.3), 0px 1px 3px 1px rgba(60, 64, 67, 0.15);\n",
              "      fill: #174EA6;\n",
              "    }\n",
              "\n",
              "    [theme=dark] .colab-df-convert {\n",
              "      background-color: #3B4455;\n",
              "      fill: #D2E3FC;\n",
              "    }\n",
              "\n",
              "    [theme=dark] .colab-df-convert:hover {\n",
              "      background-color: #434B5C;\n",
              "      box-shadow: 0px 1px 3px 1px rgba(0, 0, 0, 0.15);\n",
              "      filter: drop-shadow(0px 1px 2px rgba(0, 0, 0, 0.3));\n",
              "      fill: #FFFFFF;\n",
              "    }\n",
              "  </style>\n",
              "\n",
              "      <script>\n",
              "        const buttonEl =\n",
              "          document.querySelector('#df-9e5bd0ab-b017-405a-9790-3d46870ff2aa button.colab-df-convert');\n",
              "        buttonEl.style.display =\n",
              "          google.colab.kernel.accessAllowed ? 'block' : 'none';\n",
              "\n",
              "        async function convertToInteractive(key) {\n",
              "          const element = document.querySelector('#df-9e5bd0ab-b017-405a-9790-3d46870ff2aa');\n",
              "          const dataTable =\n",
              "            await google.colab.kernel.invokeFunction('convertToInteractive',\n",
              "                                                     [key], {});\n",
              "          if (!dataTable) return;\n",
              "\n",
              "          const docLinkHtml = 'Like what you see? Visit the ' +\n",
              "            '<a target=\"_blank\" href=https://colab.research.google.com/notebooks/data_table.ipynb>data table notebook</a>'\n",
              "            + ' to learn more about interactive tables.';\n",
              "          element.innerHTML = '';\n",
              "          dataTable['output_type'] = 'display_data';\n",
              "          await google.colab.output.renderOutput(dataTable, element);\n",
              "          const docLink = document.createElement('div');\n",
              "          docLink.innerHTML = docLinkHtml;\n",
              "          element.appendChild(docLink);\n",
              "        }\n",
              "      </script>\n",
              "    </div>\n",
              "  </div>\n",
              "  "
            ],
            "text/plain": [
              "           Date     home_team       away_team  yg1  yg2 result  hg  ag\n",
              "599  01/02/2020   Santa Clara  Pacos Ferreira    2    1      H  17  13\n",
              "117  01/02/2020       Setubal           Porto    0    4      A  18  15\n",
              "304  01/02/2020  Portimonense         Tondela    0    1      A  14  21\n",
              "57   01/02/2021   Santa Clara      Belenenses    2    0      H  17   2\n",
              "613  01/02/2021     Sp Lisbon         Benfica    1    0      H  20   3"
            ]
          },
          "execution_count": 81,
          "metadata": {},
          "output_type": "execute_result"
        }
      ],
      "source": [
        "import numpy as np\n",
        "\n",
        "n_teams = len(df[\"home_team\"].unique())\n",
        "\n",
        "teams = (\n",
        "    df[[\"home_team\"]]\n",
        "    .drop_duplicates()\n",
        "    .sort_values(\"home_team\")\n",
        "    .reset_index(drop=True)\n",
        "    .assign(team_index=np.arange(n_teams))\n",
        "    .rename(columns={\"home_team\": \"team\"})\n",
        ")\n",
        "\n",
        "df = (\n",
        "    df.merge(teams, left_on=\"home_team\", right_on=\"team\")\n",
        "    .rename(columns={\"team_index\": \"hg\"})\n",
        "    .drop([\"team\"], axis=1)\n",
        "    .merge(teams, left_on=\"away_team\", right_on=\"team\")\n",
        "    .rename(columns={\"team_index\": \"ag\"})\n",
        "    .drop([\"team\"], axis=1)\n",
        "    .sort_values(\"Date\")\n",
        ")\n",
        "\n",
        "df.head()"
      ]
    },
    {
      "cell_type": "markdown",
      "metadata": {
        "id": "9Eg-l5utm8vH"
      },
      "source": [
        "The column `hg` contains the home team's `ID`, while the column `ag` contains the away team's `ID`. For example, Porto has `ID 15`, and Benfica has `ID 3`.  \n",
        "\n",
        "Defining the training dataset and subsets:  "
      ]
    },
    {
      "cell_type": "code",
      "execution_count": null,
      "metadata": {
        "id": "yrfnW0sxsK22"
      },
      "outputs": [],
      "source": [
        "train = df\n",
        "goals_home_obs = train[\"yg1\"].values\n",
        "goals_away_obs = train[\"yg2\"].values\n",
        "home_team = train[\"hg\"].values\n",
        "away_team = train[\"ag\"].values"
      ]
    },
    {
      "cell_type": "markdown",
      "metadata": {
        "id": "ush5dNu1Flb0"
      },
      "source": [
        "The base model remains the same:  \n",
        "\n",
        "> $goals\\_home = home\\_advantage + home\\_attack + defence\\_away$  \n",
        "\n",
        "> $goals\\_away = away\\_attack + defence\\_home$  "
      ]
    },
    {
      "cell_type": "markdown",
      "metadata": {
        "id": "JFUDqWhNsULg"
      },
      "source": [
        "## **Bayesian Statistics**  \n",
        "\n",
        "In our model, we will use Bayesian statistics. Therefore, in this case, we have a distribution of values for each model parameter, rather than a single value per parameter as we did in the previous models.  \n",
        "The use of the Bayesian model leads us to employ a technique called Hierarchical Modeling. This technique allows us to account for the relationships between variables by considering them as a product of a common distribution.  \n",
        "For us, this means we can avoid the issues of independence that the Poisson variables caused in the two previous models. In other words, there is no need to apply the Dixon and Coles adjustment."
      ]
    },
    {
      "cell_type": "markdown",
      "metadata": {
        "id": "uy5OiipbxriT"
      },
      "source": [
        "## **PyMC3 Model**  \n",
        "\n",
        "We will use the PyMC3 library in Python to build the model.  \n",
        "The `home` parameter refers to the home advantage. This parameter is fixed because it is assumed that the advantage is constant across all teams and over time.  \n",
        "The parameters `atts` and `defs` represent the attacking and defensive strength of each team.  \n",
        "At the end of the code, we calculate `home_theta` and `away_theta`. We sum the *ratings* and the home advantage, then calculate the expected goal-scoring value for each team and apply the Poisson distribution."
      ]
    },
    {
      "cell_type": "code",
      "execution_count": null,
      "metadata": {
        "id": "DlavdfZM7Eg0"
      },
      "outputs": [],
      "source": [
        "!pip install theano\n",
        "!pip install pymc3"
      ]
    },
    {
      "cell_type": "code",
      "execution_count": null,
      "metadata": {
        "id": "EL5ZE-p86qwm"
      },
      "outputs": [],
      "source": [
        "import pymc3 as pm\n",
        "import theano.tensor as tt\n",
        "\n",
        "with pm.Model() as model:\n",
        "    # home advantage\n",
        "    home = pm.Flat(\"home\")\n",
        "\n",
        "    # attack ratings\n",
        "    tau_att = pm.Gamma(\"tau_att\", 0.1, 0.1)\n",
        "    atts_star = pm.Normal(\"atts_star\", mu=0, tau=tau_att, shape=n_teams)\n",
        "\n",
        "    # defence ratings\n",
        "    tau_def = pm.Gamma(\"tau_def\", 0.1, 0.1)\n",
        "    def_star = pm.Normal(\"def_star\", mu=0, tau=tau_def, shape=n_teams)\n",
        "\n",
        "    # apply sum zero constraints\n",
        "    atts = pm.Deterministic(\"atts\", atts_star - tt.mean(atts_star))\n",
        "    defs = pm.Deterministic(\"defs\", def_star - tt.mean(def_star))\n",
        "\n",
        "    # calulate theta\n",
        "    home_theta = tt.exp(home + atts[home_team] + defs[away_team])\n",
        "    away_theta = tt.exp(atts[away_team] + defs[home_team])\n",
        "\n",
        "    # goal expectation\n",
        "    home_points = pm.Poisson(\"home_goals\", mu=home_theta, observed=goals_home_obs)\n",
        "    away_points = pm.Poisson(\"away_goals\", mu=away_theta, observed=goals_away_obs)"
      ]
    },
    {
      "cell_type": "markdown",
      "metadata": {
        "id": "ZRRH7bTC82kG"
      },
      "source": [
        "### **Model Fit**  \n",
        "\n",
        "Now, let's fit the model by calling the **sample** function from PyMC3. Sampling is done 2000 times across `6` *chains*, resulting in a total of about `12000` *samples*. The *tune* variable is set to `1000`, meaning that each *chain* will discard `1000` *samples* before starting."
      ]
    },
    {
      "cell_type": "code",
      "execution_count": null,
      "metadata": {
        "colab": {
          "base_uri": "https://localhost:8080/",
          "height": 37
        },
        "id": "e_8Kkw_Z99YX",
        "outputId": "73190669-75a7-4640-fd6d-53ad59cb892e"
      },
      "outputs": [
        {
          "data": {
            "text/html": [
              "\n",
              "<style>\n",
              "    /* Turns off some styling */\n",
              "    progress {\n",
              "        /* gets rid of default border in Firefox and Opera. */\n",
              "        border: none;\n",
              "        /* Needs to be in here for Safari polyfill so background images work as expected. */\n",
              "        background-size: auto;\n",
              "    }\n",
              "    progress:not([value]), progress:not([value])::-webkit-progress-bar {\n",
              "        background: repeating-linear-gradient(45deg, #7e7e7e, #7e7e7e 10px, #5c5c5c 10px, #5c5c5c 20px);\n",
              "    }\n",
              "    .progress-bar-interrupted, .progress-bar-interrupted::-webkit-progress-bar {\n",
              "        background: #F44336;\n",
              "    }\n",
              "</style>\n"
            ],
            "text/plain": [
              "<IPython.core.display.HTML object>"
            ]
          },
          "metadata": {},
          "output_type": "display_data"
        },
        {
          "data": {
            "text/html": [
              "\n",
              "    <div>\n",
              "      <progress value='18000' class='' max='18000' style='width:300px; height:20px; vertical-align: middle;'></progress>\n",
              "      100.00% [18000/18000 01:13&lt;00:00 Sampling 6 chains, 0 divergences]\n",
              "    </div>\n",
              "    "
            ],
            "text/plain": [
              "<IPython.core.display.HTML object>"
            ]
          },
          "metadata": {},
          "output_type": "display_data"
        }
      ],
      "source": [
        "with model:\n",
        "    trace = pm.sample(2000, tune=1000, cores=6, return_inferencedata=False)"
      ]
    },
    {
      "cell_type": "markdown",
      "metadata": {
        "id": "VUnRzqyj-Ayb"
      },
      "source": [
        "### **Home Advantage IV**  \n",
        "\n",
        "Let's see how the model behaves when adjusting the parameters. We'll start with the home advantage:"
      ]
    },
    {
      "cell_type": "code",
      "execution_count": null,
      "metadata": {
        "colab": {
          "base_uri": "https://localhost:8080/",
          "height": 171
        },
        "id": "spnuxzHG-B6t",
        "outputId": "d4541d25-693a-4187-a301-16876d382926"
      },
      "outputs": [
        {
          "data": {
            "image/png": "[encoded data removed]",
            "text/plain": [
              "<Figure size 864x144 with 2 Axes>"
            ]
          },
          "metadata": {
            "needs_background": "light"
          },
          "output_type": "display_data"
        }
      ],
      "source": [
        "with model:\n",
        "    pm.plot_trace(trace, var_names=[\"home\"]);"
      ]
    },
    {
      "cell_type": "markdown",
      "metadata": {
        "id": "JrHM5fvs-Dkg"
      },
      "source": [
        "As mentioned earlier, with a Bayesian model, we have a distribution of possible parameters rather than a single one. Looking at the obtained graphs, we see that on the left, we get a relatively smooth curve centered around the value `0.195`, or `19.5%`, which is quite close to the values used earlier.\n",
        "\n",
        "> Model I: `18.7%` | `17.1%`  \n",
        "\n",
        "> Model II: `16.7%`  \n",
        "\n",
        "> Model III: `19.5%`"
      ]
    },
    {
      "cell_type": "markdown",
      "metadata": {
        "id": "G_mZ5WI9fENB"
      },
      "source": [
        "### **Attacking Strength III**  \n",
        "\n",
        "Now the same can be done for the attacking strength:"
      ]
    },
    {
      "cell_type": "code",
      "execution_count": null,
      "metadata": {
        "colab": {
          "base_uri": "https://localhost:8080/",
          "height": 171
        },
        "id": "Jgf1HId6-EC6",
        "outputId": "8af2cb92-0ffc-4cba-c7e9-04526c055de2"
      },
      "outputs": [
        {
          "data": {
            "image/png": "[encoded data removed]",
            "text/plain": [
              "<Figure size 864x144 with 2 Axes>"
            ]
          },
          "metadata": {
            "needs_background": "light"
          },
          "output_type": "display_data"
        }
      ],
      "source": [
        "with model:\n",
        "    pm.plot_trace(trace, var_names=[\"atts\"]);"
      ]
    },
    {
      "cell_type": "markdown",
      "metadata": {
        "id": "pRt20Ig6fbQu"
      },
      "source": [
        "Again, we have smooth curves, but the graph appears quite confusing due to the large number of curves. To address this, let's create a new plot, slightly different from the previous one."
      ]
    },
    {
      "cell_type": "code",
      "execution_count": null,
      "metadata": {
        "colab": {
          "base_uri": "https://localhost:8080/",
          "height": 340
        },
        "id": "M2yPs82RfbmA",
        "outputId": "d40ebd21-99a6-4db7-8b9d-f822594ea5c2"
      },
      "outputs": [
        {
          "name": "stderr",
          "output_type": "stream",
          "text": [
            "<ipython-input-88-07e1c5661e8b>:5: FutureWarning: hdi currently interprets 2d data as (draw, shape) but this will change in a future release to (chain, draw) for coherence with other functions\n",
            "  pd.DataFrame(az.stats.hdi(trace[\"atts\"]), columns=[\"lower_hdi\", \"upper_hdi\"])\n"
          ]
        },
        {
          "data": {
            "text/plain": [
              "<ErrorbarContainer object of 3 artists>"
            ]
          },
          "execution_count": 88,
          "metadata": {},
          "output_type": "execute_result"
        },
        {
          "data": {
            "image/png": "[encoded data removed]",
            "text/plain": [
              "<Figure size 432x288 with 1 Axes>"
            ]
          },
          "metadata": {
            "needs_background": "light"
          },
          "output_type": "display_data"
        }
      ],
      "source": [
        "import arviz as az\n",
        "import matplotlib.pyplot as plt\n",
        "\n",
        "atts = (\n",
        "    pd.DataFrame(az.stats.hdi(trace[\"atts\"]), columns=[\"lower_hdi\", \"upper_hdi\"])\n",
        "    .assign(median=np.quantile(trace[\"atts\"], 0.5, axis=0))\n",
        "    .merge(teams, left_index=True, right_on=\"team_index\")\n",
        "    .drop([\"team_index\"], axis=1)\n",
        "    .rename(columns={\"team\": \"Team\"})\n",
        "    .assign(lower=lambda x: x[\"median\"] - x[\"lower_hdi\"])\n",
        "    .assign(upper=lambda x: x[\"upper_hdi\"] - x[\"median\"])\n",
        "    .sort_values(\"median\", ascending=True)\n",
        ")\n",
        "\n",
        "plt.errorbar(\n",
        "    atts[\"median\"],\n",
        "    atts[\"Team\"],\n",
        "    xerr=(atts[[\"lower\", \"upper\"]].values).T,\n",
        "    fmt=\"o\",\n",
        ")"
      ]
    },
    {
      "cell_type": "markdown",
      "metadata": {
        "id": "AImBpfslfI14"
      },
      "source": [
        "### **Defensive Strength III**  \n",
        "\n",
        "Now the same can be done for the defensive strength:"
      ]
    },
    {
      "cell_type": "code",
      "execution_count": null,
      "metadata": {
        "colab": {
          "base_uri": "https://localhost:8080/",
          "height": 171
        },
        "id": "MOu5jcW0ex4z",
        "outputId": "5b67faa4-e370-4499-acfb-2605bfca2bac"
      },
      "outputs": [
        {
          "data": {
            "image/png": "[encoded data removed]",
            "text/plain": [
              "<Figure size 864x144 with 2 Axes>"
            ]
          },
          "metadata": {
            "needs_background": "light"
          },
          "output_type": "display_data"
        }
      ],
      "source": [
        "with model:\n",
        "    pm.plot_trace(trace, var_names=[\"defs\"]);"
      ]
    },
    {
      "cell_type": "markdown",
      "metadata": {
        "id": "1oDyy7NzFV0L"
      },
      "source": [
        "Again, we have smooth curves, but the graph appears quite confusing due to the large number of curves. To address this, let's create a new plot, slightly different from the previous one."
      ]
    },
    {
      "cell_type": "code",
      "execution_count": null,
      "metadata": {
        "colab": {
          "base_uri": "https://localhost:8080/",
          "height": 340
        },
        "id": "mtt4sXgdGwZR",
        "outputId": "a1f14d92-1306-4fa9-c660-ed5d783d0ae0"
      },
      "outputs": [
        {
          "name": "stderr",
          "output_type": "stream",
          "text": [
            "<ipython-input-90-3f43e3574c7c>:2: FutureWarning: hdi currently interprets 2d data as (draw, shape) but this will change in a future release to (chain, draw) for coherence with other functions\n",
            "  pd.DataFrame(az.stats.hdi(trace[\"defs\"]), columns=[\"lower_hdi\", \"upper_hdi\"])\n"
          ]
        },
        {
          "data": {
            "text/plain": [
              "<ErrorbarContainer object of 3 artists>"
            ]
          },
          "execution_count": 90,
          "metadata": {},
          "output_type": "execute_result"
        },
        {
          "data": {
            "image/png": "[encoded data removed]",
            "text/plain": [
              "<Figure size 432x288 with 1 Axes>"
            ]
          },
          "metadata": {
            "needs_background": "light"
          },
          "output_type": "display_data"
        }
      ],
      "source": [
        "defs = (\n",
        "    pd.DataFrame(az.stats.hdi(trace[\"defs\"]), columns=[\"lower_hdi\", \"upper_hdi\"])\n",
        "    .assign(median=np.quantile(trace[\"defs\"], 0.5, axis=0))\n",
        "    .merge(teams, left_index=True, right_on=\"team_index\")\n",
        "    .drop([\"team_index\"], axis=1)\n",
        "    .rename(columns={\"team\": \"Team\"})\n",
        "    .assign(lower=lambda x: x[\"median\"] - x[\"lower_hdi\"])\n",
        "    .assign(upper=lambda x: x[\"upper_hdi\"] - x[\"median\"])\n",
        "    .sort_values(\"median\", ascending=False)\n",
        ")\n",
        "\n",
        "plt.errorbar(\n",
        "    defs[\"median\"],\n",
        "    defs[\"Team\"],\n",
        "    xerr=(defs[[\"lower\", \"upper\"]].values).T,\n",
        "    fmt=\"o\",\n",
        ")"
      ]
    },
    {
      "cell_type": "markdown",
      "metadata": {
        "id": "8kBmoimFGu3o"
      },
      "source": [
        "The two blue bar charts show the average value (the point on each blue line) of the attacking and defensive strength of each team, along with their HDI (High Density Interval, the blue line). The HDI is at a `95%` confidence level.\n",
        "\n",
        "The width of the HDI represents the uncertainty of the model for our parameter. Therefore, the wider the bar, the greater the uncertainty about the true value of the parameter. It is worth noting that the HDI is typically wider for teams that have recently been promoted to the top tier of Portuguese football, as we have less data available in our dataset."
      ]
    },
    {
      "cell_type": "markdown",
      "metadata": {
        "id": "a1ZuwruuQMHL"
      },
      "source": [
        "### **Match Prediction III**  \n",
        "\n",
        "As we know, this model is slightly different from the previous ones, as we don't have a specific value for each parameter. Instead, we have a distribution of values (around 12,000 values per parameter).  \n",
        "To simplify, we calculated the average of each parameter, so that we can later use this average to calculate the expected number of goals.  \n",
        "In the first lines of the code below, we see the instructions to calculate the average of the parameters. Then, as mentioned, we use the averages to calculate the expected number of goals."
      ]
    },
    {
      "cell_type": "code",
      "execution_count": null,
      "metadata": {
        "id": "VuV7fRseQK8Z"
      },
      "outputs": [],
      "source": [
        "def goal_expectation(trace, home_team_id, away_team_id):   \n",
        "    # obter os prâmetros\n",
        "    home = np.mean(trace[\"home\"])\n",
        "    atts_home = np.mean([x[home_team_id] for x in trace[\"atts\"]])\n",
        "    atts_away = np.mean([x[away_team_id] for x in trace[\"atts\"]])\n",
        "    defs_home = np.mean([x[home_team_id] for x in trace[\"defs\"]])\n",
        "    defs_away = np.mean([x[away_team_id] for x in trace[\"defs\"]])\n",
        "\n",
        "    # calcular o theta\n",
        "    home_theta = np.exp(home + atts_home + defs_away)\n",
        "    away_theta = np.exp(atts_away + defs_home)\n",
        "\n",
        "    # retorna a média por equipa\n",
        "    return home_theta, away_theta"
      ]
    },
    {
      "cell_type": "markdown",
      "metadata": {
        "id": "BS2qteWJPPS5"
      },
      "source": [
        "Now, it is only necessary to provide the model with the IDs to obtain the goal predictions. For example, Porto, ID 3, vs Benfica, ID 15.\n"
      ]
    },
    {
      "cell_type": "code",
      "execution_count": null,
      "metadata": {
        "colab": {
          "base_uri": "https://localhost:8080/"
        },
        "id": "8cDTmoTKQUAB",
        "outputId": "755a76bc-00ce-4e56-fa25-f6cd811cd7ca"
      },
      "outputs": [
        {
          "data": {
            "text/plain": [
              "(1.4522959552375645, 1.400016527232181)"
            ]
          },
          "execution_count": 92,
          "metadata": {},
          "output_type": "execute_result"
        }
      ],
      "source": [
        "goal_expectation(trace, 3, 15)"
      ]
    },
    {
      "cell_type": "markdown",
      "metadata": {
        "id": "UkSlF1w-Ppyf"
      },
      "source": [
        "Let's switch the order and determine the prediction if Benfica plays at home (the first ID provided is for the home team).\n"
      ]
    },
    {
      "cell_type": "code",
      "execution_count": null,
      "metadata": {
        "colab": {
          "base_uri": "https://localhost:8080/"
        },
        "id": "nVFjpqYTQVlS",
        "outputId": "6fffdd43-0989-4e51-f500-dd92348440d8"
      },
      "outputs": [
        {
          "data": {
            "text/plain": [
              "(1.7056456130625546, 1.192063769984597)"
            ]
          },
          "execution_count": 93,
          "metadata": {},
          "output_type": "execute_result"
        }
      ],
      "source": [
        "goal_expectation(trace, 15, 3)"
      ]
    },
    {
      "cell_type": "markdown",
      "metadata": {
        "id": "8PJaeMsiXuXC"
      },
      "source": [
        "## **Conclusion**  \n",
        "\n",
        "The Bayesian Hierarchical model still has some limitations, such as the lack of a temporal parameter $t$ that assigns weights to different matches based on their date. It also suffers from the effect of *Overshrinkage*, which is an issue associated with Hierarchical models, where extreme values are pulled toward the group mean.\n",
        "What we mean by this is that the stronger teams don't appear as strong as they should, and similarly, the weaker teams don't appear as weak as they should. In other words, our measures are influenced and drawn toward the average, which affects the performance of this model.\n",
        "The solution proposed by Baio and Blangiardo is to restructure our model to create three groups: *`Top Teams`*, *`Mid-Table Teams`*, and *`Bottom Teams`*. The model then uses these groups within the Hierarchical framework so that the parameters are estimated through a distribution of similar teams, reducing *Overshrinkage*.\n",
        "To conclude, this model is capable of predicting attacking strength, defensive strength, home advantage, and match results. It is quite similar to the other models, even though it is simpler, as it doesn't have the temporal parameter $t$ and doesn't require the $\\rho$ parameter.\n"
      ]
    }
  ],
  "metadata": {
    "colab": {
      "collapsed_sections": [
        "fJ55lSvBULgc",
        "BHqNsyBUtZ-D",
        "nzzi20y2C5Wz",
        "A-ydo_b_uw89"
      ],
      "provenance": [],
      "toc_visible": true
    },
    "gpuClass": "standard",
    "kernelspec": {
      "display_name": "Python 3",
      "name": "python3"
    },
    "language_info": {
      "name": "python"
    }
  },
  "nbformat": 4,
  "nbformat_minor": 0
}
