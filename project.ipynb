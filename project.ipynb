{
 "cells": [
  {
   "cell_type": "markdown",
   "metadata": {},
   "source": [
    "# Main Problem\n",
    "\n",
    "The goal is to apply the concepts taught in a small project aimed at predicting the results of football matches in one of the Portuguese leagues. The objective is to model:\n",
    "\n",
    "* Attacking strength\n",
    "* Defensive strength\n",
    "* Home advantage\n",
    "\n",
    "for each team in the league. Various models should be tested, and relevant conclusions should be drawn.\n",
    "\n",
    "It is also possible to use data from teams in other competitive sports besides football."
   ]
  },
  {
   "cell_type": "markdown",
   "metadata": {},
   "source": []
  }
 ],
 "metadata": {
  "language_info": {
   "name": "python"
  }
 },
 "nbformat": 4,
 "nbformat_minor": 2
}
